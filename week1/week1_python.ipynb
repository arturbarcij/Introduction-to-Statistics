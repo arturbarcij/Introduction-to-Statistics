{
 "cells": [
  {
   "cell_type": "markdown",
   "metadata": {},
   "source": [
    "# IntroStat Week 1 Python\n",
    "\n",
    "Welcome to the first lecture in IntroStat\n",
    "\n",
    "During the lectures we will present both slides and notebooks. \n",
    "\n",
    "This is the notebook used in the lecture in week 1. Updated: 2/2/2025\n"
   ]
  },
  {
   "cell_type": "markdown",
   "metadata": {},
   "source": [
    "### First steps using python code"
   ]
  },
  {
   "cell_type": "code",
   "execution_count": 1,
   "metadata": {},
   "outputs": [
    {
     "data": {
      "text/plain": [
       "5\n"
      ]
     },
     "metadata": {},
     "output_type": "display_data"
    }
   ],
   "source": [
    "# Addition\n",
    "2+3"
   ]
  },
  {
   "cell_type": "code",
   "execution_count": 2,
   "metadata": {},
   "outputs": [],
   "source": [
    "# Define a variable\n",
    "x = 3"
   ]
  },
  {
   "cell_type": "code",
   "execution_count": 4,
   "metadata": {},
   "outputs": [
    {
     "data": {
      "text/plain": [
       "3\n"
      ]
     },
     "metadata": {},
     "output_type": "display_data"
    }
   ],
   "source": [
    "# print out the value of the variable\n",
    "print(x)"
   ]
  },
  {
   "cell_type": "code",
   "execution_count": 5,
   "metadata": {},
   "outputs": [
    {
     "data": {
      "text/plain": [
       "<class 'int'>\n"
      ]
     },
     "metadata": {},
     "output_type": "display_data"
    }
   ],
   "source": [
    "print(type(x))"
   ]
  },
  {
   "cell_type": "code",
   "execution_count": 6,
   "metadata": {},
   "outputs": [],
   "source": [
    "# try changing x to 3.8 and see what happens to the type"
   ]
  },
  {
   "cell_type": "markdown",
   "metadata": {},
   "source": [
    "Notice how jupyter notebooks work in two **modes**: **command** mode and **edit** mode. <br>\n",
    "\n",
    "To enter command mode press **esc** <br>\n",
    "\n",
    "To enter edit mode press **enter** <br>\n",
    "\n",
    "(you can also use the mouse/clicking for most tasks)"
   ]
  },
  {
   "cell_type": "code",
   "execution_count": 7,
   "metadata": {},
   "outputs": [],
   "source": [
    "# define a variable of the data-type \"list\", which can contain several values\n",
    "x = [1,4,6,2] "
   ]
  },
  {
   "cell_type": "code",
   "execution_count": 8,
   "metadata": {},
   "outputs": [
    {
     "data": {
      "text/plain": [
       "[1, 4, 6, 2]\n"
      ]
     },
     "metadata": {},
     "output_type": "display_data"
    }
   ],
   "source": [
    "print(x)"
   ]
  },
  {
   "cell_type": "code",
   "execution_count": 9,
   "metadata": {},
   "outputs": [
    {
     "data": {
      "text/plain": [
       "<class 'list'>\n"
      ]
     },
     "metadata": {},
     "output_type": "display_data"
    }
   ],
   "source": [
    "print(type(x))"
   ]
  },
  {
   "cell_type": "code",
   "execution_count": 10,
   "metadata": {},
   "outputs": [
    {
     "data": {
      "text/plain": [
       "[1, 4, 'hello', 0.232]"
      ]
     },
     "execution_count": 10,
     "metadata": {},
     "output_type": "execute_result"
    }
   ],
   "source": [
    "# lists can contain many different types of data\n",
    "x = [1,4,'hello',0.232] \n",
    "x"
   ]
  },
  {
   "cell_type": "code",
   "execution_count": 11,
   "metadata": {},
   "outputs": [
    {
     "data": {
      "text/plain": [
       "[1, 4, 'hello', 0.232, 1, 4, 'hello', 0.232, 1, 4, 'hello', 0.232, 1, 4, 'hello', 0.232, 1, 4, 'hello', 0.232]\n"
      ]
     },
     "metadata": {},
     "output_type": "display_data"
    }
   ],
   "source": [
    "# what happens if we multiply a list by a number?\n",
    "print(x*5)"
   ]
  },
  {
   "cell_type": "code",
   "execution_count": 12,
   "metadata": {},
   "outputs": [
    {
     "data": {
      "text/plain": [
       "Traceback (most recent call last):\n",
       "  File \"c:\\Users\\artur\\.vscode\\extensions\\ms-python.python-2024.22.2-win32-x64\\python_files\\python_server.py\", line 133, in exec_user_input\n",
       "    retval = callable_(user_input, user_globals)\n",
       "             ^^^^^^^^^^^^^^^^^^^^^^^^^^^^^^^^^^^\n",
       "  File \"<string>\", line 2, in <module>\n",
       "TypeError: can't multiply sequence by non-int of type 'float'\n",
       "\n"
      ]
     },
     "metadata": {},
     "output_type": "display_data"
    }
   ],
   "source": [
    "# what if we had chosen a non-integer number?\n",
    "print(x*1.2)"
   ]
  },
  {
   "cell_type": "markdown",
   "metadata": {},
   "source": [
    "In conclusion: lists do not behave as vectors. <br>\n",
    "For example multiplication does not operate elementwise. <br> \n",
    "We want to work with a variable type that behave more like a vector (or matrix)."
   ]
  },
  {
   "cell_type": "markdown",
   "metadata": {},
   "source": [
    "### Using Numpy for vectors (ndarrays)"
   ]
  },
  {
   "cell_type": "code",
   "execution_count": 13,
   "metadata": {},
   "outputs": [],
   "source": [
    "### import the NUMPY package for vectors (ndarray data type for multidimentional arrays), math functions, etc.\n",
    "import numpy as np"
   ]
  },
  {
   "cell_type": "code",
   "execution_count": 14,
   "metadata": {},
   "outputs": [],
   "source": [
    "# store data of student height in variable x (which is now an array, not a list)\n",
    "x = np.array([168, 161, 167, 179, 184, 166, 198, 187, 191, 179])"
   ]
  },
  {
   "cell_type": "code",
   "execution_count": 15,
   "metadata": {},
   "outputs": [
    {
     "data": {
      "text/plain": [
       "[168 161 167 179 184 166 198 187 191 179]\n"
      ]
     },
     "metadata": {},
     "output_type": "display_data"
    }
   ],
   "source": [
    "print(x)"
   ]
  },
  {
   "cell_type": "code",
   "execution_count": 16,
   "metadata": {},
   "outputs": [
    {
     "data": {
      "text/plain": [
       "<class 'numpy.ndarray'>\n"
      ]
     },
     "metadata": {},
     "output_type": "display_data"
    }
   ],
   "source": [
    "print(type(x))"
   ]
  },
  {
   "cell_type": "code",
   "execution_count": 17,
   "metadata": {},
   "outputs": [],
   "source": [
    "# type is 'numpy.ndarray' - stands for n-dimensional array (1D = vector, 2D = matrix, etc.)"
   ]
  },
  {
   "cell_type": "markdown",
   "metadata": {},
   "source": [
    "### Calculate the mean"
   ]
  },
  {
   "cell_type": "code",
   "execution_count": 18,
   "metadata": {},
   "outputs": [
    {
     "data": {
      "text/plain": [
       "178.0\n"
      ]
     },
     "metadata": {},
     "output_type": "display_data"
    }
   ],
   "source": [
    "# calculate mean of x (average height of students)\n",
    "np.mean(x)"
   ]
  },
  {
   "cell_type": "code",
   "execution_count": 19,
   "metadata": {},
   "outputs": [
    {
     "data": {
      "text/plain": [
       "178.0\n"
      ]
     },
     "metadata": {},
     "output_type": "display_data"
    }
   ],
   "source": [
    "# \"mean()\" can also be called as a method\n",
    "x.mean()"
   ]
  },
  {
   "cell_type": "markdown",
   "metadata": {},
   "source": [
    "Have a look in the online documentation: https://numpy.org/doc/stable/reference/generated/numpy.ndarray.html\n",
    "\n",
    "The datatype \"ndarray\" (also called a numpy array) has many methods."
   ]
  },
  {
   "cell_type": "code",
   "execution_count": 20,
   "metadata": {},
   "outputs": [
    {
     "data": {
      "text/plain": [
       "161\n"
      ]
     },
     "metadata": {},
     "output_type": "display_data"
    }
   ],
   "source": [
    "# lets try some other \"methods\"\n",
    "x.min()"
   ]
  },
  {
   "cell_type": "code",
   "execution_count": 21,
   "metadata": {},
   "outputs": [
    {
     "data": {
      "text/plain": [
       "198\n"
      ]
     },
     "metadata": {},
     "output_type": "display_data"
    }
   ],
   "source": [
    "x.max()"
   ]
  },
  {
   "cell_type": "code",
   "execution_count": 22,
   "metadata": {},
   "outputs": [
    {
     "data": {
      "text/plain": [
       "149.11111111111111\n"
      ]
     },
     "metadata": {},
     "output_type": "display_data"
    }
   ],
   "source": [
    "# what about variance? \n",
    "# OBS: need to remember ddof = 1 if you want to calculate the \"sample variance\". \n",
    "# We use (n-1) for sample variance because it gives us an unbiased estimator of the population variance. This is known as Bessel's correction. \n",
    "x.var(ddof=1)"
   ]
  },
  {
   "cell_type": "markdown",
   "metadata": {},
   "source": [
    "ddof?? look in documentation for explanation: https://numpy.org/doc/stable/reference/generated/numpy.ndarray.html\n"
   ]
  },
  {
   "cell_type": "code",
   "execution_count": 23,
   "metadata": {},
   "outputs": [
    {
     "data": {
      "text/plain": [
       "12.211106056009468\n"
      ]
     },
     "metadata": {},
     "output_type": "display_data"
    }
   ],
   "source": [
    "# standard deviation (also remember ddof=1 for \"sample standard deviation\")\n",
    "x.std(ddof=1)"
   ]
  },
  {
   "cell_type": "code",
   "execution_count": 24,
   "metadata": {},
   "outputs": [
    {
     "data": {
      "text/plain": [
       "Traceback (most recent call last):\n",
       "  File \"c:\\Users\\artur\\.vscode\\extensions\\ms-python.python-2024.22.2-win32-x64\\python_files\\python_server.py\", line 133, in exec_user_input\n",
       "    retval = callable_(user_input, user_globals)\n",
       "             ^^^^^^^^^^^^^^^^^^^^^^^^^^^^^^^^^^^\n",
       "  File \"<string>\", line 2, in <module>\n",
       "AttributeError: 'numpy.ndarray' object has no attribute 'median'\n",
       "\n"
      ]
     },
     "metadata": {},
     "output_type": "display_data"
    }
   ],
   "source": [
    "# what about the median?\n",
    "x.median()"
   ]
  },
  {
   "cell_type": "markdown",
   "metadata": {},
   "source": [
    "no method called median? \n",
    "\n",
    "OK, then we call the median() function directly from numpy"
   ]
  },
  {
   "cell_type": "code",
   "execution_count": 25,
   "metadata": {},
   "outputs": [
    {
     "data": {
      "text/plain": [
       "179.0\n"
      ]
     },
     "metadata": {},
     "output_type": "display_data"
    }
   ],
   "source": [
    "np.median(x)"
   ]
  },
  {
   "cell_type": "code",
   "execution_count": 26,
   "metadata": {},
   "outputs": [
    {
     "data": {
      "text/plain": [
       "[163.5 166.5 179.  189.  194.5]\n"
      ]
     },
     "metadata": {},
     "output_type": "display_data"
    }
   ],
   "source": [
    "# we can also get other percentiles (50th percentile is the same as the median)\n",
    "np.percentile(x, [10,20,50,80,90], method='averaged_inverted_cdf')"
   ]
  },
  {
   "cell_type": "markdown",
   "metadata": {},
   "source": [
    "# Notice the method=\"averaged inverted cdf\", CDF (Cumulative Distribution Function)\n",
    "\n",
    "There are many different ways to define percentiles!\n",
    "\n",
    "See the documentaion: https://numpy.org/doc/stable/reference/generated/numpy.percentile.html#numpy.percentile\n",
    "\n",
    "In this course (and in the book) we use the 'averaged_inverted_cdf' method.\n",
    "Here's Inverted CDF (Cumulative Distribution Function) works:\n",
    "\n",
    "1. The function first converts the input data and requested percentiles to numpy arrays\n",
    "2. It sorts the data in ascending order\n",
    "3. Calculates positions using the averaged empirical CDF approach\n",
    "4. Performs linear interpolation between points to get the final percentile values"
   ]
  },
  {
   "cell_type": "code",
   "execution_count": 27,
   "metadata": {},
   "outputs": [
    {
     "name": "stdout",
     "output_type": "stream",
     "text": [
      "[161 166 167 168 179 179 184 187 191 198]\n"
     ]
    }
   ],
   "source": [
    "# compare with sorted data\n",
    "x.sort()\n",
    "print(x)"
   ]
  },
  {
   "cell_type": "markdown",
   "metadata": {},
   "source": [
    "## Coefficient of variation\n",
    "The **Coefficient of Variation (CV)** is generally defined as the ratio of the standard deviation to the mean:\n",
    "\n",
    "$\n",
    "\\text{CV} = \\frac{\\sigma}{\\mu}\n",
    "$\n",
    "\n",
    "- $\\sigma$ represents the standard deviation (of the population or sample).\n",
    "- $\\mu$ represents the mean (of the population or sample).\n",
    "\n",
    "Often the CV is expressed as a percentage by multiplying by 100%:\n",
    "\n",
    "$\n",
    "\\text{CV (\\%)} = \\left(\\frac{\\sigma}{\\mu}\\right) \\times 100\\%\n",
    "$"
   ]
  },
  {
   "cell_type": "code",
   "execution_count": 28,
   "metadata": {},
   "outputs": [
    {
     "name": "stdout",
     "output_type": "stream",
     "text": [
      "Coefficient of Variation: 6.51%\n"
     ]
    }
   ],
   "source": [
    "import numpy as np\n",
    "\n",
    "# Store student heights in an array\n",
    "x = np.array([168, 161, 167, 179, 184, 166, 198, 187, 191, 179])\n",
    "\n",
    "# Calculate the mean and standard deviation\n",
    "mean_x = np.mean(x)\n",
    "std_x = np.std(x)\n",
    "\n",
    "# Calculate the coefficient of variation\n",
    "cv = (std_x / mean_x) * 100\n",
    "\n",
    "print(f\"Coefficient of Variation: {cv:.2f}%\")\n"
   ]
  },
  {
   "cell_type": "markdown",
   "metadata": {},
   "source": [
    "## Covariance and Correlation Coefficient\n",
    "### 1. Sample Covariance\n",
    "\n",
    "Let $\\{(x_1, y_1), (x_2, y_2), \\dots, (x_n, y_n)\\}$ be the data pairs, and let\n",
    "$\n",
    "\\bar{x} = \\frac{1}{n}\\sum_{i=1}^n x_i, \n",
    "\\quad \n",
    "\\bar{y} = \\frac{1}{n}\\sum_{i=1}^n y_i\n",
    "$\n",
    "be the sample means of $x$ and $y$, respectively. Then the **sample covariance** is given by\n",
    "\n",
    "$\n",
    "\\mathrm{Cov}(x, y)\n",
    "= \\frac{1}{n-1}\\sum_{i=1}^n (x_i - \\bar{x})(y_i - \\bar{y}).\n",
    "$\n",
    "\n",
    "---\n",
    "\n",
    "### 2. Sample Pearson Correlation Coefficient\n",
    "\n",
    "The **sample Pearson correlation coefficient** (often just called the correlation coefficient) is defined as:\n",
    "\n",
    "$\n",
    "r_{xy}\n",
    "= \\frac{\\mathrm{Cov}(x, y)}{s_x \\, s_y}\n",
    "$\n",
    "\n",
    "where $s_x$ and $s_y$ are the sample standard deviations of $x$ and $y$, respectively:\n",
    "\n",
    "$\n",
    "s_X \n",
    "= \\sqrt{\\frac{1}{n-1} \\sum_{i=1}^n (x_i - \\bar{x})^2}, \n",
    "\\quad\n",
    "s_Y \n",
    "= \\sqrt{\\frac{1}{n-1} \\sum_{i=1}^n (y_i - \\bar{y})^2}.\n",
    "$\n",
    "\n",
    "Hence, putting it all together:\n",
    "\n",
    "$\n",
    "r_{xy}\n",
    "= \\frac{ \\frac{1}{n-1}\\sum_{i=1}^n (x_i - \\bar{x})(y_i - \\bar{y}) }\n",
    "       { \\sqrt{\\frac{1}{n-1} \\sum_{i=1}^n (x_i - \\bar{x})^2} \\,\\sqrt{\\frac{1}{n-1} \\sum_{i=1}^n (y_i - \\bar{y})^2} }.\n",
    "$\n",
    "\n",
    "This correlation coefficient $r_{xy}$ always lies between $-1$ and $+1$."
   ]
  },
  {
   "cell_type": "code",
   "execution_count": 29,
   "metadata": {},
   "outputs": [
    {
     "name": "stdout",
     "output_type": "stream",
     "text": [
      "Covariance: 165.92\n",
      "Correlation coefficient: 0.97\n"
     ]
    }
   ],
   "source": [
    "import numpy as np\n",
    "\n",
    "# Data from the table\n",
    "heights = np.array([168, 161, 167, 179, 184, 166, 198, 187, 191, 179])\n",
    "weights = np.array([65.5, 58.3, 68.1, 85.7, 80.5, 63.4, 102.6, 91.4, 86.7, 78.9])\n",
    "\n",
    "# Covariance calculation\n",
    "cov_matrix = np.cov(heights, weights)\n",
    "covariance = cov_matrix[0, 1]\n",
    "\n",
    "# Correlation coefficient calculation\n",
    "correlation = np.corrcoef(heights, weights)[0, 1]\n",
    "\n",
    "print(f\"Covariance: {covariance:.2f}\")\n",
    "print(f\"Correlation coefficient: {correlation:.2f}\")\n"
   ]
  },
  {
   "cell_type": "markdown",
   "metadata": {},
   "source": [
    "## Scatter Plot and Show the Correlation Coefficient\n",
    "1. **Correlation Coefficient Calculation**  \n",
    "   The code calculates the Pearson correlation coefficient between the `heights` and `weights` arrays (`np.corrcoef(heights, weights)[0,1]`). This value indicates the strength and direction of the linear relationship between height and weight. A positive value means that as height increases, weight tends to increase.\n",
    "2. **Scatter Plot**  \n",
    "   The code generates a scatter plot of the given height and weight data, with height on the x-axis and weight on the y-axis. Each point on the plot corresponds to one pair of (height, weight) values. This visual representation helps confirm the correlation observed numerically; if most points roughly follow a straight line sloping upward, it suggests a positive linear relationship."
   ]
  },
  {
   "cell_type": "code",
   "execution_count": 30,
   "metadata": {},
   "outputs": [
    {
     "data": {
      "image/png": "[encoded data removed]",
      "text/plain": [
       "<Figure size 800x600 with 1 Axes>"
      ]
     },
     "metadata": {},
     "output_type": "display_data"
    }
   ],
   "source": [
    "import numpy as np\n",
    "import matplotlib.pyplot as plt\n",
    "\n",
    "# Data from the table\n",
    "heights = np.array([168, 161, 167, 179, 184, 166, 198, 187, 191, 179])\n",
    "weights = np.array([65.5, 58.3, 68.1, 85.7, 80.5, 63.4, 102.6, 91.4, 86.7, 78.9])\n",
    "\n",
    "# Calculate correlation coefficient\n",
    "correlation = np.corrcoef(heights, weights)[0, 1]\n",
    "\n",
    "# Create scatter plot\n",
    "plt.figure(figsize=(8, 6))\n",
    "plt.scatter(heights, weights, color='b', label='Data points')\n",
    "\n",
    "# Add labels and title\n",
    "plt.xlabel('Height (cm)')\n",
    "plt.ylabel('Weight (kg)')\n",
    "plt.title(f'Scatter plot of Height vs Weight\\nCorrelation Coefficient: {correlation:.2f}')\n",
    "\n",
    "# Display the plot\n",
    "plt.legend()\n",
    "plt.grid(True)\n",
    "plt.show()\n"
   ]
  },
  {
   "cell_type": "markdown",
   "metadata": {},
   "source": [
    "## Plots/Visual or Graphical Methods in Descriptive Statistics"
   ]
  },
  {
   "cell_type": "code",
   "execution_count": 31,
   "metadata": {},
   "outputs": [],
   "source": [
    "# import the matplotlib.pyplot package \n",
    "import matplotlib.pyplot as plt"
   ]
  },
  {
   "cell_type": "code",
   "execution_count": 32,
   "metadata": {},
   "outputs": [
    {
     "name": "stdout",
     "output_type": "stream",
     "text": [
      "[168 161 167 179 184 166 198 187 191 179]\n"
     ]
    }
   ],
   "source": [
    "x = np.array([168, 161, 167, 179, 184, 166, 198, 187, 191, 179])\n",
    "print(x)"
   ]
  },
  {
   "cell_type": "markdown",
   "metadata": {},
   "source": [
    "### Histogram\n",
    "\n",
    "A histogram is a graphical representation of the distribution of numerical data, where the data is grouped into continuous, non-overlapping intervals called bins, and the height of each bar reflects the frequency (or density) of values falling within each bin."
   ]
  },
  {
   "cell_type": "code",
   "execution_count": 33,
   "metadata": {},
   "outputs": [
    {
     "data": {
      "image/png": "[encoded data removed]",
      "text/plain": [
       "<Figure size 640x480 with 1 Axes>"
      ]
     },
     "metadata": {},
     "output_type": "display_data"
    }
   ],
   "source": [
    "# Create a histogram. This is the simplest way of creating a histogram in matplotlib. It uses the default number of bins and default style settings.\n",
    "plt.hist(x)\n",
    "plt.show()"
   ]
  },
  {
   "cell_type": "markdown",
   "metadata": {},
   "source": [
    "Now, we'll customize the histogram by specifying the number of bins (bins=8), adding an edge color and fill color, adjusting the transparency (alpha), and setting density=True to display a probability density rather than a simple count."
   ]
  },
  {
   "cell_type": "code",
   "execution_count": 34,
   "metadata": {},
   "outputs": [
    {
     "data": {
      "image/png": "[encoded data removed]",
      "text/plain": [
       "<Figure size 640x480 with 1 Axes>"
      ]
     },
     "metadata": {},
     "output_type": "display_data"
    }
   ],
   "source": [
    "# Customize your histogram\n",
    "plt.hist(x, bins=8, edgecolor='black', color='red', alpha=0.7, density=True)\n",
    "plt.xlabel('x')\n",
    "plt.ylabel('Density')\n",
    "plt.title('Histogram Example')\n",
    "plt.show()"
   ]
  },
  {
   "cell_type": "markdown",
   "metadata": {},
   "source": [
    "Now, we'll manually define the exact bin edges (bins=[160,165,170,175,180,185,190,195,200]) to have full control over the bin intervals, while still applying the same stylistic customizations as in the second example."
   ]
  },
  {
   "cell_type": "code",
   "execution_count": 35,
   "metadata": {},
   "outputs": [
    {
     "data": {
      "image/png": "[encoded data removed]",
      "text/plain": [
       "<Figure size 640x480 with 1 Axes>"
      ]
     },
     "metadata": {},
     "output_type": "display_data"
    }
   ],
   "source": [
    "# specifying bin-edges:\n",
    "plt.hist(x, bins=[160,165,170,175,180,185,190,195,200], edgecolor='black', color='red', alpha=0.7, density=True)\n",
    "plt.xlabel('x')\n",
    "plt.ylabel('Density')\n",
    "plt.title('Histogram Example')\n",
    "plt.show()"
   ]
  },
  {
   "cell_type": "markdown",
   "metadata": {},
   "source": [
    "Histograms are important - they show how the data is **distributed** <br>\n",
    "\n",
    "Next week we will talk more about theoretical distributions. <br>\n",
    "\n",
    "Histograms serve as *empirical distributions* <br>\n",
    "\n",
    "Based on the histogram above, how would you guess the height-distribution in the *population* looks like? <br> "
   ]
  },
  {
   "cell_type": "code",
   "execution_count": 36,
   "metadata": {},
   "outputs": [
    {
     "data": {
      "image/png": "[encoded data removed]",
      "text/plain": [
       "<Figure size 640x480 with 1 Axes>"
      ]
     },
     "metadata": {},
     "output_type": "display_data"
    }
   ],
   "source": [
    "# lets try with really small bins, such that the histogram diplays all the details in the data:\n",
    "plt.hist(x, bins=np.arange(160,200,1), edgecolor='black', color='red', alpha=0.7, density=True)\n",
    "plt.xlabel('x')\n",
    "plt.ylabel('Density')\n",
    "plt.title('Histogram Example')\n",
    "plt.show()"
   ]
  },
  {
   "cell_type": "markdown",
   "metadata": {},
   "source": [
    "### Empirical Cumulative Distribution Function\n",
    "\n",
    "A **cumulative distribution plot (CDF plot)** shows the proportion (or percentage) of data that falls at or below a given value. Some key, simple uses include:\n",
    "\n",
    "- **Identifying thresholds and percentiles** (e.g., medians, quartiles).  \n",
    "- **Comparing different distributions** easily on the same figure.  \n",
    "- **Visually estimating probabilities** of data being less than or greater than a specific value. "
   ]
  },
  {
   "cell_type": "code",
   "execution_count": 79,
   "metadata": {},
   "outputs": [
    {
     "data": {
      "image/png": "[encoded data removed]",
      "text/plain": [
       "<Figure size 640x480 with 1 Axes>"
      ]
     },
     "metadata": {},
     "output_type": "display_data"
    }
   ],
   "source": [
    "# plot the \"Empirical Cumulative Distribution Function\"\n",
    "plt.ecdf(x)\n",
    "plt.show()"
   ]
  },
  {
   "cell_type": "code",
   "execution_count": 80,
   "metadata": {},
   "outputs": [
    {
     "name": "stdout",
     "output_type": "stream",
     "text": [
      "[168 161 167 179 184 166 198 187 191 179]\n"
     ]
    }
   ],
   "source": [
    "# compare with values \n",
    "print(x)"
   ]
  },
  {
   "cell_type": "markdown",
   "metadata": {},
   "source": [
    "In the cumulated distribution all detailed information is kept - but it is another way to visualise the distribution of data. "
   ]
  },
  {
   "cell_type": "code",
   "execution_count": 37,
   "metadata": {},
   "outputs": [
    {
     "data": {
      "image/png": "[encoded data removed]",
      "text/plain": [
       "<Figure size 640x480 with 1 Axes>"
      ]
     },
     "metadata": {},
     "output_type": "display_data"
    }
   ],
   "source": [
    "# lets increase the y-range slightly:\n",
    "plt.ecdf(x)\n",
    "plt.ylim(-0.1,1.1)\n",
    "plt.xlabel('x')\n",
    "plt.ylabel('ecdf(x)')\n",
    "plt.title('Empirical Cumulative Distribution Function')\n",
    "plt.show()"
   ]
  },
  {
   "cell_type": "markdown",
   "metadata": {},
   "source": [
    "The y-range goes from 0 to 1 - or 0% to 100% <br>\n",
    "\n",
    "Every vertical line-segment is a datapoint <br>\n",
    "\n",
    "When the plot is \"steep\" there are many datapoints (corresponds to high values in the histogram). <br>\n",
    "\n",
    "The ECDF plot can be used to understand the \"averaged_inverted_cdf\" used for percentiles. <br>\n",
    "\n",
    "OBS: we will talk more about distributions - and cumulative distributions - over the next couple of weeks. "
   ]
  },
  {
   "cell_type": "markdown",
   "metadata": {},
   "source": [
    "### Other plots in Python: Boxplot and Pie Chart"
   ]
  },
  {
   "cell_type": "code",
   "execution_count": 38,
   "metadata": {},
   "outputs": [
    {
     "data": {
      "image/png": "[encoded data removed]",
      "text/plain": [
       "<Figure size 640x480 with 1 Axes>"
      ]
     },
     "metadata": {},
     "output_type": "display_data"
    }
   ],
   "source": [
    "# make a boxplot\n",
    "plt.boxplot(x)\n",
    "plt.show()"
   ]
  },
  {
   "cell_type": "markdown",
   "metadata": {},
   "source": [
    "A **boxplot** provides a quick visual summary of the distribution of a dataset, highlighting:\n",
    "\n",
    "1. **Median and Quartiles** – Displays the central tendency and spread via the median, the first quartile (Q1), and the third quartile (Q3).  \n",
    "2. **Range of Data** – Whiskers typically show the data range or a specific cutoff for outliers.  \n",
    "3. **Outlier Detection** – Points lying beyond the whiskers indicate potential outliers.  \n",
    "4. **Comparison Across Groups** – Multiple boxplots can be placed side by side to compare distributions."
   ]
  },
  {
   "cell_type": "code",
   "execution_count": 39,
   "metadata": {},
   "outputs": [
    {
     "data": {
      "image/png": "[encoded data removed]",
      "text/plain": [
       "<Figure size 640x480 with 1 Axes>"
      ]
     },
     "metadata": {},
     "output_type": "display_data"
    },
    {
     "name": "stdout",
     "output_type": "stream",
     "text": [
      "[161 166 167 168 179 179 184 187 191 198]\n"
     ]
    }
   ],
   "source": [
    "# Adding some explanation:\n",
    "plt.boxplot(x)\n",
    "plt.text(1.1, np.percentile(x,  [0]), 'Minimum', color='blue')\n",
    "plt.text(1.1, np.percentile(x, [25]), 'Q1', color='blue')\n",
    "plt.text(1.1, np.percentile(x, [50]), 'Median', color='blue')\n",
    "plt.text(1.1, np.percentile(x, [75]), 'Q3', color='blue')\n",
    "plt.text(1.1, np.percentile(x,[100]), 'Maximun', color='blue')\n",
    "plt.title(\"Basic box plot\")\n",
    "plt.show()\n",
    "x.sort()\n",
    "print(x)"
   ]
  },
  {
   "cell_type": "markdown",
   "metadata": {},
   "source": [
    "Manually Calculate the values required for drawing a boxplot"
   ]
  },
  {
   "cell_type": "code",
   "execution_count": 40,
   "metadata": {},
   "outputs": [
    {
     "name": "stdout",
     "output_type": "stream",
     "text": [
      "Q1 (25th percentile): 167.25\n",
      "Q3 (75th percentile): 186.25\n",
      "IQR: 19.0\n",
      "Lower fence: 138.75\n",
      "Upper fence: 214.75\n"
     ]
    }
   ],
   "source": [
    "import numpy as np\n",
    "\n",
    "# Data\n",
    "x = [168, 161, 167, 179, 184, 166, 198, 187, 191, 179]\n",
    "\n",
    "# Calculate quartiles\n",
    "Q1 = np.percentile(x, 25)\n",
    "Q3 = np.percentile(x, 75)\n",
    "\n",
    "# Interquartile Range\n",
    "IQR = Q3 - Q1\n",
    "\n",
    "# Calculate fences\n",
    "lower_fence = Q1 - 1.5 * IQR\n",
    "upper_fence = Q3 + 1.5 * IQR\n",
    "\n",
    "print(\"Q1 (25th percentile):\", Q1)\n",
    "print(\"Q3 (75th percentile):\", Q3)\n",
    "print(\"IQR:\", IQR)\n",
    "print(\"Lower fence:\", lower_fence)\n",
    "print(\"Upper fence:\", upper_fence)\n"
   ]
  },
  {
   "cell_type": "markdown",
   "metadata": {},
   "source": [
    "See documentation for definition of box and whiskers: \n",
    "\n",
    "https://matplotlib.org/stable/api/_as_gen/matplotlib.axes.Axes.boxplot.html#matplotlib.axes.Axes.boxplot\n",
    "\n"
   ]
  },
  {
   "cell_type": "code",
   "execution_count": 41,
   "metadata": {},
   "outputs": [
    {
     "data": {
      "image/png": "[encoded data removed]",
      "text/plain": [
       "<Figure size 640x480 with 1 Axes>"
      ]
     },
     "metadata": {},
     "output_type": "display_data"
    }
   ],
   "source": [
    "# Adding an outlier to the data:\n",
    "plt.boxplot(np.append(x, [235]))\n",
    "plt.show()"
   ]
  },
  {
   "cell_type": "code",
   "execution_count": 42,
   "metadata": {},
   "outputs": [
    {
     "data": {
      "image/png": "[encoded data removed]",
      "text/plain": [
       "<Figure size 800x400 with 3 Axes>"
      ]
     },
     "metadata": {},
     "output_type": "display_data"
    }
   ],
   "source": [
    "fig, (ax1, ax2, ax3) = plt.subplots(1, 3, figsize=(8, 4))\n",
    "\n",
    "# Boxplot with one extreme value appended\n",
    "ax1.boxplot(np.append(x, [235]))\n",
    "ax1.set_title('Default Whiskers')\n",
    "\n",
    "# Boxplot with whiskers at min and max of the data (0th and 100th percentiles)\n",
    "ax2.boxplot(np.append(x, [235]), whis=(0, 100))\n",
    "ax2.set_title('Whiskers at (0, 100)')\n",
    "\n",
    "# Boxplot with whiskers set to 1.5 * IQR\n",
    "ax3.boxplot(np.append(x, [235]), whis=1.5)\n",
    "ax3.set_title('Whiskers at 1.5 * IQR')\n",
    "\n",
    "plt.tight_layout()\n",
    "plt.show()"
   ]
  },
  {
   "cell_type": "markdown",
   "metadata": {},
   "source": [
    "### Working with data - dataframes"
   ]
  },
  {
   "cell_type": "code",
   "execution_count": 43,
   "metadata": {},
   "outputs": [],
   "source": [
    "# import the Pandas library\n",
    "import pandas as pd "
   ]
  },
  {
   "cell_type": "markdown",
   "metadata": {},
   "source": [
    "**About the Code**:  \n",
    "  - Use `pd.DataFrame()` from **pandas** to create a table-like data structure.  \n",
    "  - The dictionary keys (`'males'` and `'females'`) become the DataFrame columns, and the lists are the row entries.  \n",
    "  - Missing values (`np.nan`) allow pandas to handle incomplete data gracefully in further analysis."
   ]
  },
  {
   "cell_type": "code",
   "execution_count": 44,
   "metadata": {},
   "outputs": [
    {
     "data": {
      "text/html": [
       "<div>\n",
       "<style scoped>\n",
       "    .dataframe tbody tr th:only-of-type {\n",
       "        vertical-align: middle;\n",
       "    }\n",
       "\n",
       "    .dataframe tbody tr th {\n",
       "        vertical-align: top;\n",
       "    }\n",
       "\n",
       "    .dataframe thead th {\n",
       "        text-align: right;\n",
       "    }\n",
       "</style>\n",
       "<table border=\"1\" class=\"dataframe\">\n",
       "  <thead>\n",
       "    <tr style=\"text-align: right;\">\n",
       "      <th></th>\n",
       "      <th>males</th>\n",
       "      <th>females</th>\n",
       "    </tr>\n",
       "  </thead>\n",
       "  <tbody>\n",
       "    <tr>\n",
       "      <th>0</th>\n",
       "      <td>152</td>\n",
       "      <td>159.0</td>\n",
       "    </tr>\n",
       "    <tr>\n",
       "      <th>1</th>\n",
       "      <td>171</td>\n",
       "      <td>166.0</td>\n",
       "    </tr>\n",
       "    <tr>\n",
       "      <th>2</th>\n",
       "      <td>173</td>\n",
       "      <td>168.0</td>\n",
       "    </tr>\n",
       "    <tr>\n",
       "      <th>3</th>\n",
       "      <td>173</td>\n",
       "      <td>168.0</td>\n",
       "    </tr>\n",
       "    <tr>\n",
       "      <th>4</th>\n",
       "      <td>178</td>\n",
       "      <td>171.0</td>\n",
       "    </tr>\n",
       "    <tr>\n",
       "      <th>5</th>\n",
       "      <td>179</td>\n",
       "      <td>171.0</td>\n",
       "    </tr>\n",
       "    <tr>\n",
       "      <th>6</th>\n",
       "      <td>180</td>\n",
       "      <td>172.0</td>\n",
       "    </tr>\n",
       "    <tr>\n",
       "      <th>7</th>\n",
       "      <td>180</td>\n",
       "      <td>172.0</td>\n",
       "    </tr>\n",
       "    <tr>\n",
       "      <th>8</th>\n",
       "      <td>182</td>\n",
       "      <td>173.0</td>\n",
       "    </tr>\n",
       "    <tr>\n",
       "      <th>9</th>\n",
       "      <td>182</td>\n",
       "      <td>174.0</td>\n",
       "    </tr>\n",
       "    <tr>\n",
       "      <th>10</th>\n",
       "      <td>182</td>\n",
       "      <td>175.0</td>\n",
       "    </tr>\n",
       "    <tr>\n",
       "      <th>11</th>\n",
       "      <td>185</td>\n",
       "      <td>175.0</td>\n",
       "    </tr>\n",
       "    <tr>\n",
       "      <th>12</th>\n",
       "      <td>185</td>\n",
       "      <td>175.0</td>\n",
       "    </tr>\n",
       "    <tr>\n",
       "      <th>13</th>\n",
       "      <td>185</td>\n",
       "      <td>175.0</td>\n",
       "    </tr>\n",
       "    <tr>\n",
       "      <th>14</th>\n",
       "      <td>185</td>\n",
       "      <td>175.0</td>\n",
       "    </tr>\n",
       "    <tr>\n",
       "      <th>15</th>\n",
       "      <td>185</td>\n",
       "      <td>177.0</td>\n",
       "    </tr>\n",
       "    <tr>\n",
       "      <th>16</th>\n",
       "      <td>186</td>\n",
       "      <td>178.0</td>\n",
       "    </tr>\n",
       "    <tr>\n",
       "      <th>17</th>\n",
       "      <td>187</td>\n",
       "      <td>NaN</td>\n",
       "    </tr>\n",
       "    <tr>\n",
       "      <th>18</th>\n",
       "      <td>190</td>\n",
       "      <td>NaN</td>\n",
       "    </tr>\n",
       "    <tr>\n",
       "      <th>19</th>\n",
       "      <td>190</td>\n",
       "      <td>NaN</td>\n",
       "    </tr>\n",
       "    <tr>\n",
       "      <th>20</th>\n",
       "      <td>192</td>\n",
       "      <td>NaN</td>\n",
       "    </tr>\n",
       "    <tr>\n",
       "      <th>21</th>\n",
       "      <td>192</td>\n",
       "      <td>NaN</td>\n",
       "    </tr>\n",
       "    <tr>\n",
       "      <th>22</th>\n",
       "      <td>197</td>\n",
       "      <td>NaN</td>\n",
       "    </tr>\n",
       "  </tbody>\n",
       "</table>\n",
       "</div>"
      ],
      "text/plain": [
       "    males  females\n",
       "0     152    159.0\n",
       "1     171    166.0\n",
       "2     173    168.0\n",
       "3     173    168.0\n",
       "4     178    171.0\n",
       "5     179    171.0\n",
       "6     180    172.0\n",
       "7     180    172.0\n",
       "8     182    173.0\n",
       "9     182    174.0\n",
       "10    182    175.0\n",
       "11    185    175.0\n",
       "12    185    175.0\n",
       "13    185    175.0\n",
       "14    185    175.0\n",
       "15    185    177.0\n",
       "16    186    178.0\n",
       "17    187      NaN\n",
       "18    190      NaN\n",
       "19    190      NaN\n",
       "20    192      NaN\n",
       "21    192      NaN\n",
       "22    197      NaN"
      ]
     },
     "execution_count": 44,
     "metadata": {},
     "output_type": "execute_result"
    }
   ],
   "source": [
    "# Make a DataFrame:\n",
    "data = pd.DataFrame({\n",
    "    'males':  [152, 171, 173, 173, 178, 179, 180, 180, 182, 182, 182, 185, \n",
    "                    185 ,185, 185, 185 ,186 ,187 ,190 ,190, 192, 192, 197], \n",
    "    'females':[159, 166, 168 ,168 ,171 ,171 ,172, 172, 173, 174 ,175 ,175,\n",
    "                    175, 175, 175, 177, 178, np.nan,np.nan,np.nan,np.nan,np.nan,np.nan]\n",
    "})\n",
    "data"
   ]
  },
  {
   "cell_type": "code",
   "execution_count": 45,
   "metadata": {},
   "outputs": [
    {
     "name": "stdout",
     "output_type": "stream",
     "text": [
      "<class 'pandas.core.frame.DataFrame'>\n"
     ]
    }
   ],
   "source": [
    "print(type(data))"
   ]
  },
  {
   "cell_type": "code",
   "execution_count": 46,
   "metadata": {},
   "outputs": [
    {
     "data": {
      "text/plain": [
       "<Axes: >"
      ]
     },
     "execution_count": 46,
     "metadata": {},
     "output_type": "execute_result"
    },
    {
     "data": {
      "image/png": "[encoded data removed]",
      "text/plain": [
       "<Figure size 640x480 with 1 Axes>"
      ]
     },
     "metadata": {},
     "output_type": "display_data"
    }
   ],
   "source": [
    "# The DataFrame has a direct method for making a boxplot:\n",
    "data.boxplot()"
   ]
  },
  {
   "cell_type": "markdown",
   "metadata": {},
   "source": [
    "### Reading data from an external file\n",
    "\n",
    "It is very important to learn how to read data from other files. In practice one will never type all the data into Python by hand!"
   ]
  },
  {
   "cell_type": "code",
   "execution_count": 47,
   "metadata": {},
   "outputs": [],
   "source": [
    "csv_data= pd.read_csv(\"studentheights.csv\", sep=';')"
   ]
  },
  {
   "cell_type": "code",
   "execution_count": 48,
   "metadata": {},
   "outputs": [
    {
     "name": "stdout",
     "output_type": "stream",
     "text": [
      "<class 'pandas.core.frame.DataFrame'>\n"
     ]
    }
   ],
   "source": [
    "print(type(csv_data))"
   ]
  },
  {
   "cell_type": "code",
   "execution_count": 50,
   "metadata": {},
   "outputs": [
    {
     "data": {
      "text/html": [
       "<div>\n",
       "<style scoped>\n",
       "    .dataframe tbody tr th:only-of-type {\n",
       "        vertical-align: middle;\n",
       "    }\n",
       "\n",
       "    .dataframe tbody tr th {\n",
       "        vertical-align: top;\n",
       "    }\n",
       "\n",
       "    .dataframe thead th {\n",
       "        text-align: right;\n",
       "    }\n",
       "</style>\n",
       "<table border=\"1\" class=\"dataframe\">\n",
       "  <thead>\n",
       "    <tr style=\"text-align: right;\">\n",
       "      <th></th>\n",
       "      <th>Height</th>\n",
       "      <th>Gender</th>\n",
       "    </tr>\n",
       "  </thead>\n",
       "  <tbody>\n",
       "    <tr>\n",
       "      <th>0</th>\n",
       "      <td>152</td>\n",
       "      <td>male</td>\n",
       "    </tr>\n",
       "    <tr>\n",
       "      <th>1</th>\n",
       "      <td>171</td>\n",
       "      <td>male</td>\n",
       "    </tr>\n",
       "    <tr>\n",
       "      <th>2</th>\n",
       "      <td>173</td>\n",
       "      <td>male</td>\n",
       "    </tr>\n",
       "    <tr>\n",
       "      <th>3</th>\n",
       "      <td>173</td>\n",
       "      <td>male</td>\n",
       "    </tr>\n",
       "    <tr>\n",
       "      <th>4</th>\n",
       "      <td>178</td>\n",
       "      <td>male</td>\n",
       "    </tr>\n",
       "  </tbody>\n",
       "</table>\n",
       "</div>"
      ],
      "text/plain": [
       "   Height Gender\n",
       "0     152   male\n",
       "1     171   male\n",
       "2     173   male\n",
       "3     173   male\n",
       "4     178   male"
      ]
     },
     "execution_count": 50,
     "metadata": {},
     "output_type": "execute_result"
    }
   ],
   "source": [
    "csv_data.head()"
   ]
  },
  {
   "cell_type": "markdown",
   "metadata": {},
   "source": [
    "Notice that this DataFrame is differently structured compared to the one from above (which had columns: \"males\" and \"females\").\n",
    "\n",
    "If we want to do a boxplot by gender, we need to include the \"by=..\" argument:"
   ]
  },
  {
   "cell_type": "code",
   "execution_count": 51,
   "metadata": {},
   "outputs": [
    {
     "data": {
      "text/plain": [
       "<Axes: title={'center': 'Height'}, xlabel='[Gender]'>"
      ]
     },
     "execution_count": 51,
     "metadata": {},
     "output_type": "execute_result"
    },
    {
     "data": {
      "image/png": "[encoded data removed]",
      "text/plain": [
       "<Figure size 640x480 with 1 Axes>"
      ]
     },
     "metadata": {},
     "output_type": "display_data"
    }
   ],
   "source": [
    "csv_data.boxplot(by='Gender')"
   ]
  },
  {
   "cell_type": "markdown",
   "metadata": {},
   "source": [
    "## Pie Chart\n",
    "\n",
    "For the CSV file data on students' Gender, make a pie chart."
   ]
  },
  {
   "cell_type": "code",
   "execution_count": 52,
   "metadata": {},
   "outputs": [
    {
     "data": {
      "image/png": "[encoded data removed]",
      "text/plain": [
       "<Figure size 600x600 with 1 Axes>"
      ]
     },
     "metadata": {},
     "output_type": "display_data"
    }
   ],
   "source": [
    "# import pandas as pd\n",
    "# Reload the CSV with the correct delimiter\n",
    "data = pd.read_csv(\"studentheights.csv\", delimiter=';')\n",
    "\n",
    "# Count the occurrences of each gender\n",
    "gender_counts = data['Gender'].value_counts()\n",
    "\n",
    "# Plot a pie chart of gender distribution\n",
    "# import matplotlib.pyplot as plt\n",
    "\n",
    "plt.figure(figsize=(6, 6))\n",
    "plt.pie(gender_counts, labels=gender_counts.index, autopct='%1.1f%%', startangle=90, colors=['lightblue', 'lightgreen'])\n",
    "plt.title('Gender Distribution in Student Dataset')\n",
    "plt.show()\n"
   ]
  },
  {
   "cell_type": "markdown",
   "metadata": {},
   "source": [
    "See the book for more plots (scatterplots, pie charts etc.)"
   ]
  },
  {
   "cell_type": "code",
   "execution_count": null,
   "metadata": {},
   "outputs": [],
   "source": []
  }
 ],
 "metadata": {
  "kernelspec": {
   "display_name": "base",
   "language": "python",
   "name": "python3"
  },
  "language_info": {
   "codemirror_mode": {
    "name": "ipython",
    "version": 3
   },
   "file_extension": ".py",
   "mimetype": "text/x-python",
   "name": "python",
   "nbconvert_exporter": "python",
   "pygments_lexer": "ipython3",
   "version": "3.11.9"
  }
 },
 "nbformat": 4,
 "nbformat_minor": 2
}
