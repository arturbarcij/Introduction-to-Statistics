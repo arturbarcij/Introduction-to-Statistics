{
 "cells": [
  {
   "cell_type": "code",
   "execution_count": 1,
   "metadata": {},
   "outputs": [],
   "source": [
    "import numpy as np\n",
    "import pandas as pd\n",
    "import scipy.stats as stats\n",
    "import matplotlib.pyplot as plt\n",
    "import statsmodels.api as sm\n",
    "import statsmodels.stats.proportion as smprop"
   ]
  },
  {
   "cell_type": "markdown",
   "metadata": {},
   "source": [
    "a)What is the sample mean, variance and standard deviation of the female\n",
    "births? Express in your own words the story told by these numbers. The\n",
    "idea is to force you to interpret what can be learned from these numbers."
   ]
  },
  {
   "cell_type": "markdown",
   "metadata": {},
   "source": [
    "Def 1.4: Sample mean is sum of observations divided by the\n",
    "number of observations.\n",
    "Def 1.10: The sample variance is sum of squared differences from\n",
    "the sample mean divided by n-1.\n",
    "Def 1.11: The sample standard deviation is the square root of the\n",
    "sample variance."
   ]
  },
  {
   "cell_type": "markdown",
   "metadata": {},
   "source": [
    "1.1 Infant birth weight"
   ]
  },
  {
   "cell_type": "code",
   "execution_count": null,
   "metadata": {},
   "outputs": [
    {
     "name": "stdout",
     "output_type": "stream",
     "text": [
      "3361.3\n",
      "3361.3\n"
     ]
    },
    {
     "data": {
      "text/plain": [
       "(None, None)"
      ]
     },
     "execution_count": 4,
     "metadata": {},
     "output_type": "execute_result"
    }
   ],
   "source": [
    "females_data = np.array([2474, 2547, 2830, 3219, 3429, 3448, 3677, 3872, 4001, 4116])\n",
    "\n",
    "sum_females = 0\n",
    "for x in females_data:\n",
    "    sum_females += x\n",
    "    \n",
    "mean = 1/10 * sum_females\n",
    "print(mean), print(np.mean(females_data))"
   ]
  },
  {
   "cell_type": "code",
   "execution_count": 8,
   "metadata": {},
   "outputs": [
    {
     "name": "stdout",
     "output_type": "stream",
     "text": [
      "344920.45555555564\n",
      "344920.4555555556\n"
     ]
    },
    {
     "data": {
      "text/plain": [
       "(None, None)"
      ]
     },
     "execution_count": 8,
     "metadata": {},
     "output_type": "execute_result"
    }
   ],
   "source": [
    "n = 10\n",
    "diff = 0\n",
    "for a in females_data:\n",
    "    diff += (a - mean)**2\n",
    "Var = (diff/(n-1))\n",
    "print(Var), print(females_data.var(ddof=1))"
   ]
  },
  {
   "cell_type": "code",
   "execution_count": 15,
   "metadata": {},
   "outputs": [
    {
     "name": "stdout",
     "output_type": "stream",
     "text": [
      "587.299289592245\n",
      "587.2992895922449\n"
     ]
    },
    {
     "data": {
      "text/plain": [
       "(None, None)"
      ]
     },
     "execution_count": 15,
     "metadata": {},
     "output_type": "execute_result"
    }
   ],
   "source": [
    "SD = np.sqrt(Var)\n",
    "\n",
    "print(SD), print(females_data.std(ddof=1))"
   ]
  },
  {
   "cell_type": "markdown",
   "metadata": {},
   "source": [
    "b) Compute the same summary statistics of the male births. Compare and\n",
    "explain differences with the results for the female births."
   ]
  },
  {
   "cell_type": "code",
   "execution_count": null,
   "metadata": {},
   "outputs": [
    {
     "name": "stdout",
     "output_type": "stream",
     "text": [
      "3475.2000000000003\n",
      "3475.2\n"
     ]
    },
    {
     "data": {
      "text/plain": [
       "(None, None)"
      ]
     },
     "execution_count": 16,
     "metadata": {},
     "output_type": "execute_result"
    }
   ],
   "source": [
    "males_data = np.array([2844, 2863, 2963, 3239, 3379, 3449, 3582, 3926, 4151, 4356])\n",
    "\n",
    "sum_males = 0\n",
    "for x in males_data:\n",
    "    sum_males += x\n",
    "     \n",
    "mean = 1/10 * sum_males\n",
    "print(mean), print(np.mean(males_data))"
   ]
  },
  {
   "cell_type": "code",
   "execution_count": 18,
   "metadata": {},
   "outputs": [
    {
     "name": "stdout",
     "output_type": "stream",
     "text": [
      "283158.1777777778\n",
      "283158.1777777777\n"
     ]
    },
    {
     "data": {
      "text/plain": [
       "(None, None)"
      ]
     },
     "execution_count": 18,
     "metadata": {},
     "output_type": "execute_result"
    }
   ],
   "source": [
    "n = 10\n",
    "diff = 0\n",
    "for a in males_data:\n",
    "    diff += (a - mean)**2\n",
    "Var = (diff/(n-1))\n",
    "print(Var), print(males_data.var(ddof=1))"
   ]
  },
  {
   "cell_type": "code",
   "execution_count": 19,
   "metadata": {},
   "outputs": [
    {
     "name": "stdout",
     "output_type": "stream",
     "text": [
      "532.1260919911537\n",
      "532.1260919911537\n"
     ]
    },
    {
     "data": {
      "text/plain": [
       "(None, None)"
      ]
     },
     "execution_count": 19,
     "metadata": {},
     "output_type": "execute_result"
    }
   ],
   "source": [
    "SD = np.sqrt(Var)\n",
    "\n",
    "print(SD), print(males_data.std(ddof=1))"
   ]
  },
  {
   "cell_type": "markdown",
   "metadata": {},
   "source": [
    "c) Find the five quartiles for each sample — and draw the two box plots with\n",
    "pen and paper (i.e. not using Python.)"
   ]
  },
  {
   "cell_type": "code",
   "execution_count": 21,
   "metadata": {},
   "outputs": [
    {
     "name": "stdout",
     "output_type": "stream",
     "text": [
      "Q1 (25th percentile): 2927.25\n",
      "Q3 (75th percentile): 3823.25\n",
      "IQR: 896.0\n",
      "Lower fence: 1583.25\n",
      "Upper fence: 5167.25\n"
     ]
    }
   ],
   "source": [
    "import numpy as np\n",
    "\n",
    "# Calculate quartiles\n",
    "Q1 = np.percentile(females_data, 25)\n",
    "Q3 = np.percentile(females_data, 75)\n",
    "\n",
    "# Interquartile Range\n",
    "IQR = Q3 - Q1\n",
    "\n",
    "# Calculate fences\n",
    "lower_fence = Q1 - 1.5 * IQR\n",
    "upper_fence = Q3 + 1.5 * IQR\n",
    "\n",
    "print(\"Q1 (25th percentile):\", Q1)\n",
    "print(\"Q3 (75th percentile):\", Q3)\n",
    "print(\"IQR:\", IQR)\n",
    "print(\"Lower fence:\", lower_fence)\n",
    "print(\"Upper fence:\", upper_fence)\n"
   ]
  },
  {
   "cell_type": "code",
   "execution_count": 22,
   "metadata": {},
   "outputs": [
    {
     "name": "stdout",
     "output_type": "stream",
     "text": [
      "Q1 (25th percentile): 3032.0\n",
      "Q3 (75th percentile): 3840.0\n",
      "IQR: 808.0\n",
      "Lower fence: 1820.0\n",
      "Upper fence: 5052.0\n"
     ]
    }
   ],
   "source": [
    "import numpy as np\n",
    "\n",
    "# Calculate quartiles\n",
    "Q1 = np.percentile(males_data, 25)\n",
    "Q3 = np.percentile(males_data, 75)\n",
    "\n",
    "# Interquartile Range\n",
    "IQR = Q3 - Q1\n",
    "\n",
    "# Calculate fences\n",
    "lower_fence = Q1 - 1.5 * IQR\n",
    "upper_fence = Q3 + 1.5 * IQR\n",
    "\n",
    "print(\"Q1 (25th percentile):\", Q1)\n",
    "print(\"Q3 (75th percentile):\", Q3)\n",
    "print(\"IQR:\", IQR)\n",
    "print(\"Lower fence:\", lower_fence)\n",
    "print(\"Upper fence:\", upper_fence)\n"
   ]
  },
  {
   "cell_type": "markdown",
   "metadata": {},
   "source": []
  },
  {
   "cell_type": "markdown",
   "metadata": {},
   "source": [
    "2. Course grades"
   ]
  },
  {
   "cell_type": "code",
   "execution_count": null,
   "metadata": {},
   "outputs": [
    {
     "name": "stdout",
     "output_type": "stream",
     "text": [
      "      Grade  Course 1  Course 2  Total\n",
      "0   Grade12        20        14     34\n",
      "1   Grade10        14        14     28\n",
      "2   Grade07        16        27     43\n",
      "3   Grade04        20        22     42\n",
      "4   Grade02        12        27     39\n",
      "5   Grade 0        16        17     33\n",
      "6  Grade-03        10        22     32\n"
     ]
    }
   ],
   "source": [
    "data = {\n",
    "    'Grade':[\"Grade12\",\"Grade10\",\"Grade07\",\"Grade04\",\"Grade02\",\"Grade 0\", \"Grade-03\"], \n",
    "    'Course 1':[20, 14, 16, 20, 12, 16, 10],\n",
    "    'Course 2':[14, 14, 27, 22, 27, 17, 22]\n",
    "}\n",
    "\n",
    "df = pd.DataFrame(data)\n",
    "df[\"Total\"] = df[\"Course 1\"] + df[\"Course 2\"]\n",
    "print(df)"
   ]
  },
  {
   "cell_type": "markdown",
   "metadata": {},
   "source": [
    "a) What is the median of the 251 achieved grades?"
   ]
  },
  {
   "cell_type": "markdown",
   "metadata": {},
   "source": [
    "We look at the 251 grades seen from the Total column of the table. Seen from below,\n",
    "these 251 grades are already ordered, so to find the median we should find the 126th\n",
    "ordered observation from below. Since there are 104 grades in the -3, 0, and 2 Grade\n",
    "categories and 42 in the Grade 4 category, the 126th ordered observation from below\n",
    "is a 4, so the answer is: the median is 4."
   ]
  },
  {
   "cell_type": "code",
   "execution_count": 48,
   "metadata": {},
   "outputs": [
    {
     "data": {
      "text/plain": [
       "Course 1    16.0\n",
       "Course 2    22.0\n",
       "Total       34.0\n",
       "dtype: float64"
      ]
     },
     "execution_count": 48,
     "metadata": {},
     "output_type": "execute_result"
    }
   ],
   "source": [
    "df.median(numeric_only=True)"
   ]
  },
  {
   "cell_type": "markdown",
   "metadata": {},
   "source": [
    "b) What are the quartiles and the IQR (Inter Quartile Range)?"
   ]
  },
  {
   "cell_type": "code",
   "execution_count": 52,
   "metadata": {},
   "outputs": [
    {
     "name": "stdout",
     "output_type": "stream",
     "text": [
      "7\n"
     ]
    }
   ],
   "source": [
    "Q1 = 0\n",
    "Q3 = 7\n",
    "IQR = Q3 - Q1\n",
    "print(IQR)"
   ]
  },
  {
   "cell_type": "markdown",
   "metadata": {},
   "source": [
    "3. Cholesterol"
   ]
  },
  {
   "cell_type": "markdown",
   "metadata": {},
   "source": [
    "a) What is the median of the cholesterol measurements for the patients before\n",
    "treatment, and similarly after treatment?"
   ]
  },
  {
   "cell_type": "code",
   "execution_count": 3,
   "metadata": {},
   "outputs": [],
   "source": [
    "data = {\n",
    "    'patient': [1,2,3,4,5,6,7,8,9,10,11,12,13,14,15],\n",
    "    'Before': [9.1,8.0,7.7,10.0,9.6,7.9,9.0,7.1,8.3,9.6,8.2,9.2,7.3,8.5,9.5],\n",
    "    'After': [8.2,6.4,6.6,8.5,8.0,5.8,7.8,7.2,6.7,9.8,7.1,7.7,6.0,6.6,8.4]\n",
    "}"
   ]
  },
  {
   "cell_type": "code",
   "execution_count": 11,
   "metadata": {},
   "outputs": [
    {
     "name": "stdout",
     "output_type": "stream",
     "text": [
      "8.5\n",
      "7.2\n"
     ]
    }
   ],
   "source": [
    "before_sorted = np.sort(data['Before'])\n",
    "after_sorted = np.sort(data['After'])\n",
    "\n",
    "print(before_sorted[7])\n",
    "print(after_sorted[7])"
   ]
  },
  {
   "cell_type": "code",
   "execution_count": 10,
   "metadata": {},
   "outputs": [
    {
     "name": "stdout",
     "output_type": "stream",
     "text": [
      "count    15.000000\n",
      "mean      8.600000\n",
      "std       0.902378\n",
      "min       7.100000\n",
      "25%       7.950000\n",
      "50%       8.500000\n",
      "75%       9.350000\n",
      "max      10.000000\n",
      "dtype: float64\n"
     ]
    }
   ],
   "source": [
    "before_series = pd.Series(data['Before'])\n",
    "after_series = pd.Series(data['After'])\n",
    "print(before_series.describe())\n"
   ]
  },
  {
   "cell_type": "code",
   "execution_count": 13,
   "metadata": {},
   "outputs": [
    {
     "name": "stdout",
     "output_type": "stream",
     "text": [
      "[ 7.1  7.9  8.5  9.5 10. ]\n",
      "[5.8 6.6 7.2 8.2 9.8]\n"
     ]
    }
   ],
   "source": [
    "quartiles_before = np.quantile(data['Before'],[0,0.25,0.5,0.75,1],method = 'averaged_inverted_cdf')\n",
    "quartiles_after = np.quantile(data['After'],[0,0.25,0.5,0.75,1],method = 'averaged_inverted_cdf')\n",
    "## Printing the Quartiles\n",
    "print(quartiles_before)\n",
    "print(quartiles_after)"
   ]
  },
  {
   "cell_type": "markdown",
   "metadata": {},
   "source": [
    "b) Find the standard deviations of the cholesterol measurements of the pa-\n",
    "tients before and after treatment."
   ]
  },
  {
   "cell_type": "code",
   "execution_count": 15,
   "metadata": {},
   "outputs": [
    {
     "name": "stdout",
     "output_type": "stream",
     "text": [
      "8.6\n",
      "7.386666666666667\n",
      "0.7599999999999998\n",
      "1.109155555555556\n",
      "0.8717797887081346\n",
      "1.0531645434382777\n",
      "0.9023778112773574\n",
      "1.0901288696209053\n"
     ]
    }
   ],
   "source": [
    "#Before treatment\n",
    "mean_before = np.mean(data['Before'])\n",
    "var_before = np.var(data['Before'])\n",
    "sd_before = np.sqrt(var_before)\n",
    "#After treatment\n",
    "mean_after = np.mean(data['After'])\n",
    "var_after = np.var(data['After'])\n",
    "sd_after = np.sqrt(var_after)\n",
    "\n",
    "print(mean_before), print(mean_after)\n",
    "print(var_before), print(var_after)\n",
    "print(sd_before), print(sd_after)\n",
    "print(np.std(data['Before'], ddof=1))\n",
    "print(np.std(data['After'], ddof=1))\n"
   ]
  },
  {
   "cell_type": "markdown",
   "metadata": {},
   "source": [
    "c) Find the sample covariance between cholesterol measurements of the pa-\n",
    "tients before and after treatment."
   ]
  },
  {
   "cell_type": "code",
   "execution_count": 8,
   "metadata": {},
   "outputs": [
    {
     "name": "stdout",
     "output_type": "stream",
     "text": [
      "Covariance: 0.80\n"
     ]
    }
   ],
   "source": [
    "# Covariance calculation\n",
    "cov_matrix = np.cov(data['Before'], data['After'])\n",
    "covariance = cov_matrix[0, 1]\n",
    "\n",
    "print(f\"Covariance: {covariance:.2f}\")"
   ]
  },
  {
   "cell_type": "code",
   "execution_count": 7,
   "metadata": {},
   "outputs": [
    {
     "name": "stdout",
     "output_type": "stream",
     "text": [
      "Correlation coefficient: 0.81\n"
     ]
    }
   ],
   "source": [
    "# Correlation coefficient calculation\n",
    "correlation = np.corrcoef(data['Before'], data['After'])[0, 1]\n",
    "\n",
    "print(f\"Correlation coefficient: {correlation:.2f}\")"
   ]
  },
  {
   "cell_type": "code",
   "execution_count": 16,
   "metadata": {},
   "outputs": [
    {
     "name": "stdout",
     "output_type": "stream",
     "text": [
      "0.7964285714285715\n",
      "[[0.81428571 0.79642857]\n",
      " [0.79642857 1.18838095]]\n"
     ]
    }
   ],
   "source": [
    "cov_manual = np.sum((data['Before'] - np.mean(data['Before'])) * (data['After'] -\n",
    "np.mean(data['After']))) / 14\n",
    "print(cov_manual)\n",
    "0.7964285714285715\n",
    "## or use the inbuilt function\n",
    "print(np.cov(data['Before'],data['After'], ddof=1))"
   ]
  },
  {
   "cell_type": "markdown",
   "metadata": {},
   "source": [
    "d) Find the sample correlation between cholesterol measurements of the pa-\n",
    "tients before and after treatment"
   ]
  },
  {
   "cell_type": "code",
   "execution_count": 18,
   "metadata": {},
   "outputs": [
    {
     "name": "stdout",
     "output_type": "stream",
     "text": [
      "0.8096397271662439\n",
      "0.809618797174745\n",
      "[[1.        0.8096188]\n",
      " [0.8096188 1.       ]]\n"
     ]
    }
   ],
   "source": [
    "## ’Manually’\n",
    "print(0.79643/(0.90238*1.0901))\n",
    "0.8096397271662439\n",
    "## or\n",
    "cor = np.cov(data['Before'], data['After'])[0,1]/(np.std(data['Before'],ddof = 1) *\n",
    "np.std(data['After'],ddof = 1))\n",
    "print(cor)\n",
    "0.809618797174745\n",
    "## or correlation directly in numpy\n",
    "print(np.corrcoef(data['Before'],data['After']))"
   ]
  },
  {
   "cell_type": "markdown",
   "metadata": {},
   "source": [
    "e) Compute the 15 differences (Dif = Before −After) and do various summary statistics and plotting of these: sample mean, sample variance, sam-\n",
    "ple standard deviation, boxplot etc.\n"
   ]
  },
  {
   "cell_type": "code",
   "execution_count": 25,
   "metadata": {},
   "outputs": [
    {
     "name": "stdout",
     "output_type": "stream",
     "text": [
      "[-0.9 -1.6 -1.1 -1.5 -1.6 -2.1 -1.2  0.1 -1.6  0.2 -1.1 -1.5 -1.3 -1.9\n",
      " -1.1]\n"
     ]
    }
   ],
   "source": [
    "data['Difference'] = np.array(data['After']) - np.array(data['Before'])\n",
    "\n",
    "print(data['Difference'])"
   ]
  },
  {
   "cell_type": "code",
   "execution_count": 26,
   "metadata": {},
   "outputs": [
    {
     "name": "stdout",
     "output_type": "stream",
     "text": [
      "[-2.1 -1.6 -1.3 -1.1  0.2]\n",
      "0.4098095238095241\n",
      "0.6401636695482836\n"
     ]
    },
    {
     "data": {
      "image/png": "[encoded data removed]",
      "text/plain": [
       "<Figure size 640x480 with 1 Axes>"
      ]
     },
     "metadata": {},
     "output_type": "display_data"
    }
   ],
   "source": [
    "quartiles_dif = np.quantile(data['Difference'],[0,0.25,0.5,0.75,1], method='averaged_inverted_cdf')\n",
    "print(quartiles_dif)\n",
    "\n",
    "print(np.var(data['Difference'], ddof=1))\n",
    "print(np.std(data['Difference'], ddof=1))\n",
    "    \n",
    "fig = plt.boxplot(data['Difference'])\n",
    "plt.show()"
   ]
  },
  {
   "cell_type": "markdown",
   "metadata": {},
   "source": [
    "The mean effect (decrease of cholesterol due to treatment) would be estimated at\n",
    "1.2 nMol/l. But clearly there is also a high degree of differences in what the effect\n",
    "is: the standard deviation of (all) the differences is 0.64. Looking at the boxplot,\n",
    "we find two patients with values identified as extreme, which from the data table is\n",
    "seen to be patient no 8 and 10. The better way, maybe, here to tell the story would\n",
    "be the following: for 2 out of 15 patients (13% of patients) the treatment clearly\n",
    "had no effect. For the remaining 13 out of 15 (87% of patients) the treatment had\n",
    "the following average effect and standard deviation (recomputing the mean and\n",
    "standard deviation for the 13 patients):\n"
   ]
  },
  {
   "cell_type": "markdown",
   "metadata": {},
   "source": [
    "f) Observing such data the big question is whether an average decrease in\n",
    "cholesterol level can be “shown statistically”. How to formally answer\n",
    "this question is presented in Chapter 3, but consider now which summary\n",
    "statistics and/or plots would you look at to have some idea of what the\n",
    "answer will be?"
   ]
  },
  {
   "cell_type": "code",
   "execution_count": null,
   "metadata": {},
   "outputs": [
    {
     "data": {
      "image/png": "[encoded data removed]",
      "text/plain": [
       "<Figure size 640x480 with 1 Axes>"
      ]
     },
     "metadata": {},
     "output_type": "display_data"
    },
    {
     "ename": "",
     "evalue": "",
     "output_type": "error",
     "traceback": [
      "\u001b[1;31mThe Kernel crashed while executing code in the current cell or a previous cell. \n",
      "\u001b[1;31mPlease review the code in the cell(s) to identify a possible cause of the failure. \n",
      "\u001b[1;31mClick <a href='https://aka.ms/vscodeJupyterKernelCrash'>here</a> for more info. \n",
      "\u001b[1;31mView Jupyter <a href='command:jupyter.viewOutput'>log</a> for further details."
     ]
    }
   ],
   "source": [
    "fig = plt.boxplot([data['Before'],data['After']])\n",
    "plt.show()"
   ]
  },
  {
   "cell_type": "markdown",
   "metadata": {},
   "source": [
    "In the previous question we were studying the differences in the attempt to answer\n",
    "this question. One could also, as we did initially look at the data separately, and e.g.\n",
    "supplement by the grouped boxplot:"
   ]
  },
  {
   "cell_type": "markdown",
   "metadata": {},
   "source": [
    "And we would conclude: the average effect is 1.2 (we see no extreme patients in this\n",
    "plot!), and the standard deviation within each group of data is around 1 (see above:\n",
    "sbefore = 0.9 and safter = 1.1).\n",
    "Which of the two approaches do you prefer - the “difference”-approach or the\n",
    "“separate”-approach?\n",
    "We would definitely recommend the “difference”-approach, or as we will call it later,\n",
    "the “paired” approach, since this match the setup of the study, and in the most correct way uses the relevant information. Note how the difference-approach identifies\n",
    "the outliers/extremes and also ends up with much smaller standard deviations, also\n",
    "seen by the range and/or box-widths(IQR) in the box-plots. The point is that in the\n",
    "differences we have removed the variability stemming from the characteristics of\n",
    "each patient (e.g. body mass, genes, etc.). One phrase used is that in such an experiment like this, a patient acts as his own control, and hence the fact the patients are\n",
    "different does not blur the important effect signal."
   ]
  },
  {
   "cell_type": "markdown",
   "metadata": {},
   "source": [
    "4. Project Start"
   ]
  },
  {
   "cell_type": "markdown",
   "metadata": {},
   "source": [
    "a) Go to Learn or the website and take a look at the first project. Read the\n",
    "project page on the website for more information (02323.compute.dtu.dk/projects\n",
    "or 02402.compute.dtu.dk/projects). Choose a project and read the project\n",
    "description. Follow the steps to import the data into Python and get started\n",
    "with the explorative data analysis.\n"
   ]
  },
  {
   "cell_type": "markdown",
   "metadata": {},
   "source": []
  }
 ],
 "metadata": {
  "kernelspec": {
   "display_name": "Python 3",
   "language": "python",
   "name": "python3"
  },
  "language_info": {
   "codemirror_mode": {
    "name": "ipython",
    "version": 3
   },
   "file_extension": ".py",
   "mimetype": "text/x-python",
   "name": "python",
   "nbconvert_exporter": "python",
   "pygments_lexer": "ipython3",
   "version": "3.11.9"
  }
 },
 "nbformat": 4,
 "nbformat_minor": 2
}
