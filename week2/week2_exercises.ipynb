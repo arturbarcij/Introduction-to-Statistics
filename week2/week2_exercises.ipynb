{
 "cells": [
  {
   "cell_type": "code",
   "execution_count": 3,
   "metadata": {},
   "outputs": [],
   "source": [
    "import numpy as np\n",
    "import pandas as pd\n",
    "import scipy.stats as stats\n",
    "import matplotlib.pyplot as plt\n",
    "import statsmodels.api as sm\n",
    "import statsmodels.stats.proportion as smprop"
   ]
  },
  {
   "cell_type": "markdown",
   "metadata": {},
   "source": [
    "QUIZ"
   ]
  },
  {
   "cell_type": "markdown",
   "metadata": {},
   "source": [
    "Question 3 of 6"
   ]
  },
  {
   "cell_type": "code",
   "execution_count": 4,
   "metadata": {},
   "outputs": [
    {
     "data": {
      "text/plain": [
       "0.11333382935932945"
      ]
     },
     "execution_count": 4,
     "metadata": {},
     "output_type": "execute_result"
    }
   ],
   "source": [
    "1-stats.poisson.cdf(7,4.8)"
   ]
  },
  {
   "cell_type": "markdown",
   "metadata": {},
   "source": [
    "Question 6 of 6"
   ]
  },
  {
   "cell_type": "code",
   "execution_count": 5,
   "metadata": {},
   "outputs": [
    {
     "name": "stdout",
     "output_type": "stream",
     "text": [
      "0.08391794203130343\n"
     ]
    }
   ],
   "source": [
    "print(1-stats.poisson.cdf(5,3))"
   ]
  },
  {
   "cell_type": "code",
   "execution_count": 6,
   "metadata": {},
   "outputs": [
    {
     "name": "stdout",
     "output_type": "stream",
     "text": [
      "0.9772498680518208\n",
      "0.9772498680518208\n",
      "0.9772498680518208\n"
     ]
    }
   ],
   "source": [
    "print(1-stats.norm.cdf(30, loc=36, scale=3))\n",
    "print(1-stats.norm.cdf(-2))\n",
    "print(stats.norm.cdf(2))"
   ]
  },
  {
   "cell_type": "markdown",
   "metadata": {},
   "source": [
    "2.1 Discrete random variable"
   ]
  },
  {
   "cell_type": "markdown",
   "metadata": {},
   "source": [
    "a) Let X be a stochastic variable. When running the Python-command stats.binom.pmf(4,\n",
    "10, 0.6) Python returns 0.1115. written as:"
   ]
  },
  {
   "cell_type": "code",
   "execution_count": 7,
   "metadata": {},
   "outputs": [
    {
     "name": "stdout",
     "output_type": "stream",
     "text": [
      "0.11147673600000006\n"
     ]
    }
   ],
   "source": [
    "print(stats.binom.pmf(4, 10, 0.6))"
   ]
  },
  {
   "cell_type": "markdown",
   "metadata": {},
   "source": [
    "What distribution is applied and what does 0.1115 represent?\n",
    "It is binomial distrubtion"
   ]
  },
  {
   "cell_type": "markdown",
   "metadata": {},
   "source": [
    "The distribution applied is the binomial distribution with n = 10 observations and\n",
    "p = 0.6 the probability for success. The value, 0.1115 output by Python is the value\n",
    "of the probability density function (pdf) for x = 4, hence the probability of getting\n",
    "exactly 4 successes in 10 draws with replacement with a success probability of 60%"
   ]
  },
  {
   "cell_type": "markdown",
   "metadata": {},
   "source": [
    "b) Let X be the same stochastic variable as above. The following are results from Python:"
   ]
  },
  {
   "cell_type": "code",
   "execution_count": 8,
   "metadata": {},
   "outputs": [
    {
     "name": "stdout",
     "output_type": "stream",
     "text": [
      "0.16623861760000014\n",
      "0.36689674240000025\n"
     ]
    }
   ],
   "source": [
    "print(stats.binom.cdf(4,10,0.6))\n",
    "print(stats.binom.cdf(5,10,0.6))"
   ]
  },
  {
   "cell_type": "markdown",
   "metadata": {},
   "source": [
    "Calculate the following probabilities: P(X ≤ 5), P(X < 5), P(X > 4) and\n",
    "P(X = 5)."
   ]
  },
  {
   "cell_type": "code",
   "execution_count": 14,
   "metadata": {},
   "outputs": [
    {
     "name": "stdout",
     "output_type": "stream",
     "text": [
      "P(X <= 5): 0.3669\n",
      "P(X < 5): 0.1662\n",
      "P(X > 4): 0.8338\n",
      "P(X = 5): 0.2007\n"
     ]
    }
   ],
   "source": [
    "n = 10\n",
    "p = 0.6\n",
    "\n",
    "P_X_leq_5 = stats.binom.cdf(5,n,p)\n",
    "P_X_lt_5 = stats.binom.cdf(4,n,p)\n",
    "P_X_gt_4 = 1 - stats.binom.cdf(4,n,p)\n",
    "P_X_eq_5 = stats.binom.cdf(5,n,p) - stats.binom.cdf(4,n,p)\n",
    "\n",
    "print(f\"P(X <= 5): {P_X_leq_5:.4f}\")\n",
    "print(f\"P(X < 5): {P_X_lt_5:.4f}\")\n",
    "print(f\"P(X > 4): {P_X_gt_4:.4f}\")\n",
    "print(f\"P(X = 5): {P_X_eq_5:.4f}\")"
   ]
  },
  {
   "cell_type": "markdown",
   "metadata": {},
   "source": [
    "c) Let X be a stochastic variable. From Python we get:\n"
   ]
  },
  {
   "cell_type": "code",
   "execution_count": 10,
   "metadata": {},
   "outputs": [
    {
     "name": "stdout",
     "output_type": "stream",
     "text": [
      "0.16803135574154085\n"
     ]
    }
   ],
   "source": [
    "print(stats.poisson.pmf(k=4,mu=3))"
   ]
  },
  {
   "cell_type": "markdown",
   "metadata": {},
   "source": [
    "What distribution is applied and what does 0.16803 represent?"
   ]
  },
  {
   "cell_type": "markdown",
   "metadata": {},
   "source": [
    "The Poisson distribution and the value is the probability of getting x = 4 events per\n",
    "interval when the average events per interval λ = 3 (i.e. the mean)"
   ]
  },
  {
   "cell_type": "code",
   "execution_count": 11,
   "metadata": {},
   "outputs": [
    {
     "data": {
      "text/plain": [
       "-0.6775"
      ]
     },
     "execution_count": 11,
     "metadata": {},
     "output_type": "execute_result"
    }
   ],
   "source": [
    "(-2.71*1**(1/4)) / 1/4"
   ]
  },
  {
   "cell_type": "code",
   "execution_count": 12,
   "metadata": {},
   "outputs": [
    {
     "ename": "NameError",
     "evalue": "name 'math' is not defined",
     "output_type": "error",
     "traceback": [
      "\u001b[1;31m---------------------------------------------------------------------------\u001b[0m",
      "\u001b[1;31mNameError\u001b[0m                                 Traceback (most recent call last)",
      "Cell \u001b[1;32mIn[12], line 1\u001b[0m\n\u001b[1;32m----> 1\u001b[0m (\u001b[43mmath\u001b[49m\u001b[38;5;241m.\u001b[39mfactorial(\u001b[38;5;241m14\u001b[39m) \u001b[38;5;241m/\u001b[39m math\u001b[38;5;241m.\u001b[39mfactorial(\u001b[38;5;241m3\u001b[39m) \u001b[38;5;241m*\u001b[39m math\u001b[38;5;241m.\u001b[39mfactorial(\u001b[38;5;241m11\u001b[39m)) \u001b[38;5;241m/\u001b[39m math\u001b[38;5;241m.\u001b[39mfactorial(\u001b[38;5;241m20\u001b[39m) \u001b[38;5;241m/\u001b[39m math\u001b[38;5;241m.\u001b[39mfactorial(\u001b[38;5;241m3\u001b[39m) \u001b[38;5;241m*\u001b[39m math\u001b[38;5;241m.\u001b[39mfactorial(\u001b[38;5;241m17\u001b[39m)\n",
      "\u001b[1;31mNameError\u001b[0m: name 'math' is not defined"
     ]
    }
   ],
   "source": [
    "(math.factorial(14) / math.factorial(3) * math.factorial(11)) / math.factorial(20) / math.factorial(3) * math.factorial(17)"
   ]
  },
  {
   "cell_type": "markdown",
   "metadata": {},
   "source": [
    "Let X be the same stochastic variable as above. The following are results\n",
    "from Python:"
   ]
  },
  {
   "cell_type": "code",
   "execution_count": null,
   "metadata": {},
   "outputs": [
    {
     "name": "stdout",
     "output_type": "stream",
     "text": [
      "0.8152632445237722\n",
      "0.9160820579686966\n"
     ]
    },
    {
     "data": {
      "text/plain": [
       "0.9160820579686966"
      ]
     },
     "execution_count": 21,
     "metadata": {},
     "output_type": "execute_result"
    }
   ],
   "source": [
    "print(stats.poisson.cdf(4,3))\n",
    "0.8152632445237722\n",
    "print(stats.poisson.cdf(5,3))\n",
    "0.9160820579686966"
   ]
  },
  {
   "cell_type": "markdown",
   "metadata": {},
   "source": [
    "Calculate the following probabilities: P(X ≤5), P(X <5), P(X >4) and\n",
    "P(X = 5).\n"
   ]
  },
  {
   "cell_type": "code",
   "execution_count": 17,
   "metadata": {},
   "outputs": [
    {
     "name": "stdout",
     "output_type": "stream",
     "text": [
      "0.9160820579686966\n",
      "0.8152632445237722\n",
      "0.1847367554762278\n",
      "0.10081881344492438\n"
     ]
    },
    {
     "data": {
      "text/plain": [
       "0.10081881344492438"
      ]
     },
     "execution_count": 17,
     "metadata": {},
     "output_type": "execute_result"
    }
   ],
   "source": [
    "## P(X <= 5))\n",
    "print(stats.poisson.cdf(5,3))\n",
    "0.9160820579686966\n",
    "## P(X <5)\n",
    "print(stats.poisson.cdf(4,3))\n",
    "0.8152632445237722\n",
    "## P(X >4)\n",
    "print(1 - stats.poisson.cdf(4,3))\n",
    "0.1847367554762278\n",
    "## P(X = 5)\n",
    "print(stats.poisson.cdf(5,3) - stats.poisson.cdf(4,3))\n",
    "0.10081881344492438"
   ]
  },
  {
   "cell_type": "markdown",
   "metadata": {},
   "source": [
    "2.2 Course passing proportions"
   ]
  },
  {
   "cell_type": "markdown",
   "metadata": {},
   "source": [
    "a)If a passing proportion for a course given repeatedly is assumed to be 0.80\n",
    "on average, and there are 250 students who are taking the exam each time,\n",
    "what is the expected value, μ and standard deviation, σ, for the number\n",
    "of students who do not pass the exam for a randomly selected course?"
   ]
  },
  {
   "cell_type": "markdown",
   "metadata": {},
   "source": [
    "If X is the number of students not passing a randomly selected course, this random\n",
    "variable follows the binomial distribution with n = 250 and p = 0.20, so we use the\n",
    "formula for the mean and variance of the binomial\n",
    "μ = np = 0.2 ·250 = 50, σ2 = np(1 −p) = 250 ·0.2 ·0.8 = 40 = 6.322.\n",
    "So the answer is: μ = 50 and σ = 6.32.\n"
   ]
  },
  {
   "cell_type": "markdown",
   "metadata": {},
   "source": [
    "2.3 Notes in a box"
   ]
  },
  {
   "cell_type": "markdown",
   "metadata": {},
   "source": [
    "A box contains 6 notes:\n",
    "On 1 of the notes there is the number 1\n",
    "On 2 of the notes there is the number 2\n",
    "On 2 of the notes there is the number 3\n",
    "On 1 of the notes there is the number 4\n",
    "Two notes are drawn at random from the box, and the following random vari-\n",
    "able is introduced: X, which describes the number of notes with the number 4\n",
    "among the 2 drawn. The two notes are drawn without replacement.\n",
    "a) The mean and variance for X, and P(X = 0) are?"
   ]
  },
  {
   "cell_type": "markdown",
   "metadata": {},
   "source": [
    "X follows the hypergeometric distribution (2.24) with N = 6, a = 1, and n = 2 so\n",
    "the mean and variance formula (2.25) for this distribution is used to find\n",
    "μx = n a\n",
    "N = 2/6,\n",
    "and\n",
    "σ2x = n a(N −a)\n",
    "N2\n",
    "N −n\n",
    "N −1 = 2 1 ·(6 −1) ·(6 −2)\n",
    "62 ·(6 −1) = 2 ·5 ·4\n",
    "36 ·5 = 8/36 = 2/9.\n",
    "And the hypergeometric probability formula (2-25) gives\n",
    "P(X = 0) =\n",
    "( 1\n",
    "0\n",
    ")( 5\n",
    "2\n",
    ")\n",
    "( 6\n",
    "2\n",
    ") = 5 ·4 ·2\n",
    "2 ·6 ·5 = 2/3.\n",
    "So the correct answer is: μx = 1/3, σ2x = 2/9 and P(X = 0) = 2/3.\n",
    "b) The 2 notes are now drawn with replacement. What is the probability that\n",
    "none of the 2 notes has the number 1 on it?"
   ]
  },
  {
   "cell_type": "markdown",
   "metadata": {},
   "source": [
    "b)The 2 notes are now drawn with replacement. What is the probability that\n",
    "none of the 2 notes has the number 1 on it?"
   ]
  },
  {
   "cell_type": "code",
   "execution_count": 19,
   "metadata": {},
   "outputs": [
    {
     "name": "stdout",
     "output_type": "stream",
     "text": [
      "0.6944444444444443\n"
     ]
    },
    {
     "data": {
      "text/plain": [
       "0.6944444444444443"
      ]
     },
     "execution_count": 19,
     "metadata": {},
     "output_type": "execute_result"
    }
   ],
   "source": [
    "print(stats.binom.pmf(0,n=2,p=1/6))\n",
    "0.6944444444444443"
   ]
  },
  {
   "cell_type": "markdown",
   "metadata": {},
   "source": [
    "Another way is, since it is zero successes, then there is 5/6 probability of not getting\n",
    "a success and since we want that to happen in both two draws, then we can simply\n",
    "multiply the probabilities\n",
    "P(X = 0) = 5\n",
    "6 · 5\n",
    "6 = 25\n",
    "36\n",
    "So the correct answer is: 0.694 or 25\n",
    "36 ."
   ]
  },
  {
   "cell_type": "markdown",
   "metadata": {},
   "source": [
    "2.4 Consumer survey"
   ]
  },
  {
   "cell_type": "markdown",
   "metadata": {},
   "source": [
    "In a consumer survey performed by a newspaper, 20 different groceries (prod-\n",
    "ucts) were purchased in a grocery store. Discrepancies between the price ap-\n",
    "pearing on the sales slip and the shelf price were found in 6 of these purchased\n",
    "products"
   ]
  },
  {
   "cell_type": "markdown",
   "metadata": {},
   "source": [
    "a) At the same time a customer buys 3 random (different) products within\n",
    "the group consisting of the 20 goods in the store. The probability that no\n",
    "discrepancies occurs for this customer is?"
   ]
  },
  {
   "cell_type": "markdown",
   "metadata": {},
   "source": [
    "Let X denote the number of discrepancies when purchasing 3 random (different)\n",
    "products within the group of the 20 goods in the store. X then follows the hyper-\n",
    "geometric distribution (NOT the binomial!!) (why not binomial: because you don’t\n",
    "potentially by two goods of the same kind - you DO buy 3 DIFFERENT ones and\n",
    "hence having bought one - you do NOT \"put it back\" again and the randomly select\n",
    "- it is WITHOUT replacement). Therefore\n",
    "P(X = 0) =\n",
    "( 6\n",
    "0\n",
    ")( 14\n",
    "3\n",
    ")\n",
    "( 20\n",
    "3\n",
    ") = 14 ·13 ·12 ·3 ·2\n",
    "20 ·19 ·18 ·3 ·2 = 91\n",
    "15 ·19 = 0.3192982.\n",
    "Hence the answer is: 0.319.\n"
   ]
  },
  {
   "cell_type": "markdown",
   "metadata": {},
   "source": [
    "2.5 Hay delivery quality"
   ]
  },
  {
   "cell_type": "markdown",
   "metadata": {},
   "source": [
    "A horse owner receives 20 bales of hay in a sealed plastic packaging. To con-\n",
    "trol the hay, 3 bales of hay are randomly selected, and each checked whether it\n",
    "contains harmful fungal spores.\n",
    "It is believed that among the 20 bales of hay 2 bales are infected with fungal\n",
    "spores. A random variable X describes the number of infected bales of hay\n",
    "among the three selected"
   ]
  },
  {
   "cell_type": "markdown",
   "metadata": {},
   "source": [
    "a) The mean of X, (μX ), the variance of X, (σ2X ) and P(X ≥1) are"
   ]
  },
  {
   "cell_type": "markdown",
   "metadata": {},
   "source": [
    "The hypergeometric distribution with N = 20, a = 2 and n = 3 is used (\"sampling\n",
    "without replacement\"). First the mean and variance formulas for the hypergeometric\n",
    "distribution gives\n",
    "μx = 3 2\n",
    "20 = 0.3,\n",
    "and\n",
    "σ2x = 3 2\n",
    "20 (1 − 2\n",
    "20 )(20 −3\n",
    "20 −1 ) = 0.2415789.\n",
    "Then we find\n",
    "P(X ≥1) = 1 −P(X = 0) = 1 −\n",
    "( 18\n",
    "3\n",
    ")( 2\n",
    "0\n",
    ")\n",
    "( 20\n",
    "3\n",
    ") = 0.2842,\n",
    "So the answer is: μx = 0.3, σ2x = 0.242 and P(X ≥1) = 0.2842"
   ]
  },
  {
   "cell_type": "markdown",
   "metadata": {},
   "source": [
    "b) Another supplier advertises that no more than 1% of his bales of hay are\n",
    "infected. The horse owner buys 10 bales of hay from this supplier, and\n",
    "decides to buy hay for the rest of the season from this supplier if the 10\n",
    "bales are error-free.\n",
    "What is the probability that the 10 purchased bales of hay are error-free, if\n",
    "1% of the bales from a supplier are infected (p1) and the probability that\n",
    "the 10 purchased bales of hay are error-free, if 10% of the bales from a\n",
    "supplier are infected (p10)"
   ]
  },
  {
   "cell_type": "code",
   "execution_count": 20,
   "metadata": {},
   "outputs": [
    {
     "name": "stdout",
     "output_type": "stream",
     "text": [
      "0.9043820750088041\n",
      "0.9043820750088045\n"
     ]
    },
    {
     "data": {
      "text/plain": [
       "0.9043820750088045"
      ]
     },
     "execution_count": 20,
     "metadata": {},
     "output_type": "execute_result"
    }
   ],
   "source": [
    "print(stats.binom.pmf(0,n=10,p=0.01))\n",
    "0.9043820750088041\n",
    "print(stats.binom.cdf(0,n=10,p=0.01))\n",
    "0.9043820750088045"
   ]
  },
  {
   "cell_type": "code",
   "execution_count": 21,
   "metadata": {},
   "outputs": [
    {
     "name": "stdout",
     "output_type": "stream",
     "text": [
      "0.3486784401\n",
      "0.34867844009999993\n"
     ]
    },
    {
     "data": {
      "text/plain": [
       "0.34867844009999993"
      ]
     },
     "execution_count": 21,
     "metadata": {},
     "output_type": "execute_result"
    }
   ],
   "source": [
    "print(stats.binom.pmf(0,n=10,p=0.1))\n",
    "0.34867844009999993\n",
    "print(stats.binom.cdf(0,n=10,p=0.1))\n",
    "0.34867844009999993"
   ]
  },
  {
   "cell_type": "markdown",
   "metadata": {},
   "source": [
    "This 10 independent events in series where each must be non-infected, ı.e. a success\n",
    "is then 1 −0.01 and 1 −0.1, and can thus also be calculated simply by multiplying\n",
    "the probability of success in each event\n",
    "p1 = P(X1 = 0) = 0.9910 = 0.9044,\n",
    "and\n",
    "p10 = P(X10 = 0) = 0.9010 = 0.3487.\n",
    "So the answer becomes: P1 = 0.9044 and P10 = 0.3487."
   ]
  },
  {
   "cell_type": "markdown",
   "metadata": {},
   "source": [
    "2.6 Newspaper consumer survey"
   ]
  },
  {
   "cell_type": "markdown",
   "metadata": {},
   "source": [
    "In a consumer survey performed by a newspaper, 20 different groceries (prod-\n",
    "ucts) were purchased in a grocery store. Discrepancies between the price ap-\n",
    "pearing on the sales slip and the shelf price were found in 6 of these purchased\n",
    "products.\n",
    "a) Let X denote the number of discrepancies when purchasing 3 random (dif-\n",
    "ferent) products within the group of the 20 products in the store. What is\n",
    "the mean and variance of X?"
   ]
  },
  {
   "cell_type": "markdown",
   "metadata": {},
   "source": [
    "We must use the hypergeometric distribution, since we draw n = 3 of the N = 20\n",
    "products, where a = 6 have discrepancies, with no replacement (we cannot draw\n",
    "the same product twice).\n",
    "The mean and variance of the hypergeometric distribution is found in Theorem 2.25,\n",
    "thus\n",
    "μX = n · a\n",
    "N = 3 6\n",
    "20 = 0.90,\n",
    "and\n",
    "σ2X = n · a\n",
    "N\n",
    "(\n",
    "1 − a\n",
    "N\n",
    ")(N −n\n",
    "N −1\n",
    ")\n",
    "= 3 6\n",
    "20 ·\n",
    "(\n",
    "1 − 6\n",
    "20\n",
    ")(20 −3\n",
    "20 −1\n",
    ")\n",
    "= 0.5636842.\n",
    "Hence the answer is: μX = 0.90 and σ2X = 0.56."
   ]
  },
  {
   "cell_type": "markdown",
   "metadata": {},
   "source": [
    "2.7 A fully automated production"
   ]
  },
  {
   "cell_type": "markdown",
   "metadata": {},
   "source": [
    "On a large fully automated production plant items are pushed to a side band\n",
    "at random time points, from which they are automatically fed to a control unit.\n",
    "The production plant is set up in such a way that the number of items sent to\n",
    "the control unit on average is 1.6 item pr. minute. Let the random variable X\n",
    "denote the number of items pushed to the side band in 1 minute. It is assumed\n",
    "that X follows a Poisson distribution."
   ]
  },
  {
   "cell_type": "markdown",
   "metadata": {},
   "source": [
    "a) What is the probability that there will arrive more than 5 items at the con-\n",
    "trol unit in a given minute is?"
   ]
  },
  {
   "cell_type": "markdown",
   "metadata": {},
   "source": [
    "With λ = 1.6, we find that\n",
    "P(X >5) = 1 −P(X ≤5) = 1 −0.994 = 0.006\n",
    "where the 0.994 can be found with Python by:"
   ]
  },
  {
   "cell_type": "code",
   "execution_count": 22,
   "metadata": {},
   "outputs": [
    {
     "name": "stdout",
     "output_type": "stream",
     "text": [
      "0.006040291111581331\n"
     ]
    },
    {
     "data": {
      "text/plain": [
       "0.006040291111581331"
      ]
     },
     "execution_count": 22,
     "metadata": {},
     "output_type": "execute_result"
    }
   ],
   "source": [
    "print(1-stats.poisson.cdf(k=5,mu=1.6))\n",
    "0.006040291111581331"
   ]
  },
  {
   "cell_type": "markdown",
   "metadata": {},
   "source": [
    "So the answer is: approximately 0.6%"
   ]
  },
  {
   "cell_type": "markdown",
   "metadata": {},
   "source": [
    "b) What is the probability that no more than 8 items arrive to the control unit\n",
    "within a 5-minute period?"
   ]
  },
  {
   "cell_type": "markdown",
   "metadata": {},
   "source": [
    "With λ5minutes = 8, we find that\n",
    "P(X ≤8) = 0.593\n",
    "where the 0.593 can be found by Python:"
   ]
  },
  {
   "cell_type": "code",
   "execution_count": 23,
   "metadata": {},
   "outputs": [
    {
     "name": "stdout",
     "output_type": "stream",
     "text": [
      "0.5925473414375915\n"
     ]
    },
    {
     "data": {
      "text/plain": [
       "0.5925473414375915"
      ]
     },
     "execution_count": 23,
     "metadata": {},
     "output_type": "execute_result"
    }
   ],
   "source": [
    "print(stats.poisson.cdf(k=8,mu=8))\n",
    "0.5925473414375915"
   ]
  },
  {
   "cell_type": "markdown",
   "metadata": {},
   "source": [
    "So the answer is: approximately 59.3%."
   ]
  },
  {
   "cell_type": "markdown",
   "metadata": {},
   "source": [
    "2.8 Call center staff"
   ]
  },
  {
   "cell_type": "markdown",
   "metadata": {},
   "source": [
    "The staffing for answering calls in a company is based on that there will be 180\n",
    "phone calls per hour randomly distributed. If there are 20 calls or more in a\n",
    "period of 5 minutes the capacity is exceeded, and there will be an unwanted\n",
    "waiting time, hence there is a capacity of 19 calls per 5 minutes."
   ]
  },
  {
   "cell_type": "markdown",
   "metadata": {},
   "source": [
    "What is the probability that the capacity is exceeded in a random period\n",
    "of 5 minutes?"
   ]
  },
  {
   "cell_type": "markdown",
   "metadata": {},
   "source": [
    "The 60 minutes mean of 180 calls corresponds to a 5 minutes mean of μ5min =\n",
    "180/12 = 15 and the event of exceeding capacity is the event of observing at least\n",
    "20 calls within 5 minutes. Let X represent the number of calls within a randomly\n",
    "chosen 5 minutes interval, then we need to find P(X ≥20), which in Python"
   ]
  },
  {
   "cell_type": "code",
   "execution_count": 24,
   "metadata": {},
   "outputs": [
    {
     "name": "stdout",
     "output_type": "stream",
     "text": [
      "0.12478121503252504\n"
     ]
    },
    {
     "data": {
      "text/plain": [
       "0.12478121503252493"
      ]
     },
     "execution_count": 24,
     "metadata": {},
     "output_type": "execute_result"
    }
   ],
   "source": [
    "print(1-stats.poisson.cdf(k=19, mu=15))\n",
    "0.12478121503252493"
   ]
  },
  {
   "cell_type": "markdown",
   "metadata": {},
   "source": [
    "So the correct answer is: P(X ≥20) = 0.125, where X ∼Po(15).\n"
   ]
  },
  {
   "cell_type": "markdown",
   "metadata": {},
   "source": [
    "b) If the probability should be at least 99% that all calls will be handled with-\n",
    "out waiting time for a randomly selected period of 5 minutes, how large\n",
    "should the capacity per 5 minutes then at least be?"
   ]
  },
  {
   "cell_type": "markdown",
   "metadata": {},
   "source": [
    "Let X (as above) represent the number of calls in a randomly chosen 5 minutes in-\n",
    "terval, ı.e. X ∼ Po(15). It is required that\n",
    "P(“All calls will be handled”) = P(X ≤ xcapacity ) ≥0.99\n",
    "where xcapacity must be the smallest capacity which keeps the probability above 0.99.\n",
    "Using Python to find P(X ≤ xcapacity ) for 22,23,. . . ,26:"
   ]
  },
  {
   "cell_type": "code",
   "execution_count": 25,
   "metadata": {},
   "outputs": [
    {
     "ename": "SyntaxError",
     "evalue": "invalid syntax. Perhaps you forgot a comma? (2663190083.py, line 2)",
     "output_type": "error",
     "traceback": [
      "\u001b[1;36m  Cell \u001b[1;32mIn[25], line 2\u001b[1;36m\u001b[0m\n\u001b[1;33m    [0.967 0.981 0.989 0.994 0.997]\u001b[0m\n\u001b[1;37m     ^\u001b[0m\n\u001b[1;31mSyntaxError\u001b[0m\u001b[1;31m:\u001b[0m invalid syntax. Perhaps you forgot a comma?\n"
     ]
    }
   ],
   "source": [
    "print(stats.poisson.cdf(k=[22,23,24,25,26], mu=15))\n",
    "[0.967 0.981 0.989 0.994 0.997]\n",
    "# Or directly using the 99th quantile\n",
    "print(stats.poisson.ppf(q=0.99, mu=15))\n",
    "25.0"
   ]
  },
  {
   "cell_type": "markdown",
   "metadata": {},
   "source": [
    "shows that the first (smallest) capacity level achieving this is 25.\n",
    "So the correct answer is: the capacity must be at least 25 per 5 minutes"
   ]
  }
 ],
 "metadata": {
  "kernelspec": {
   "display_name": "Python 3",
   "language": "python",
   "name": "python3"
  },
  "language_info": {
   "codemirror_mode": {
    "name": "ipython",
    "version": 3
   },
   "file_extension": ".py",
   "mimetype": "text/x-python",
   "name": "python",
   "nbconvert_exporter": "python",
   "pygments_lexer": "ipython3",
   "version": "3.11.9"
  }
 },
 "nbformat": 4,
 "nbformat_minor": 2
}
