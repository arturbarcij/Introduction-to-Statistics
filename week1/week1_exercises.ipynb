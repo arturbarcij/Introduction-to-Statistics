{
 "cells": [
  {
   "cell_type": "code",
   "execution_count": 3,
   "metadata": {},
   "outputs": [],
   "source": [
    "import numpy as np\n",
    "import pandas as pd\n",
    "import scipy.stats as stats\n",
    "import matplotlib.pyplot as plt\n",
    "import statsmodels.api as sm\n",
    "import statsmodels.stats.proportion as smprop"
   ]
  },
  {
   "cell_type": "markdown",
   "metadata": {},
   "source": [
    "a)What is the sample mean, variance and standard deviation of the female\n",
    "births? Express in your own words the story told by these numbers. The\n",
    "idea is to force you to interpret what can be learned from these numbers."
   ]
  },
  {
   "cell_type": "code",
   "execution_count": 13,
   "metadata": {},
   "outputs": [
    {
     "name": "stdout",
     "output_type": "stream",
     "text": [
      "True\n"
     ]
    }
   ],
   "source": [
    "'''\n",
    "a) Def 1.4: Sample mean is sum of observations divided by the\n",
    "number of observations.\n",
    "Def 1.10: The sample variance is sum of squared differences from\n",
    "the sample mean divided by n-1.\n",
    "Def 1.11: The sample standard deviation is the square root of the\n",
    "sample variance.\n",
    "\n",
    "'''\n",
    "females_data = [2474, 2547, 2830, 3219, 3429, 3448, 3677, 3872, 4001, 4116]\n",
    "males_data = [2844, 2863, 2963, 3239, 3379, 3449, 3582, 3926, 4151, 4356]\n",
    "\n",
    "#MEAN\n",
    "sum_females = 0\n",
    "count = 0\n",
    "for x in females_data:\n",
    "    sum_females += x\n",
    "for y in females_data:\n",
    "    count += 1\n",
    "mean_females = sum_females / count\n",
    "optimized_mean = sum(females_data)/len(females_data)\n",
    "print(mean_females == optimized_mean)\n",
    "\n",
    "#VARIANCE\n",
    "sum_sqrd_diff = 0\n",
    "count = 0\n",
    "for x in females_data:\n",
    "    sum_females += x\n",
    "for y in females_data:\n",
    "    count += 1\n",
    "\n",
    "#STANDARD DEVIATION\n",
    "st_dev = 0\n",
    "for x in females_data:\n",
    "    st_dev += (x - mean_females)**2\n",
    "\n",
    "st_dev = st_dev / (count - 1)\n",
    "\n",
    "#b)\n",
    "mean_males = sum(males_data) / len(males_data)\n",
    "var_males = 0\n",
    "st_dev_males = 0"
   ]
  },
  {
   "cell_type": "markdown",
   "metadata": {},
   "source": [
    "1.1 Infant birth weight"
   ]
  },
  {
   "cell_type": "code",
   "execution_count": null,
   "metadata": {},
   "outputs": [
    {
     "name": "stdout",
     "output_type": "stream",
     "text": [
      "3361.3\n",
      "3361.3\n"
     ]
    },
    {
     "data": {
      "text/plain": [
       "(None, None)"
      ]
     },
     "execution_count": 4,
     "metadata": {},
     "output_type": "execute_result"
    }
   ],
   "source": [
    "females_data = np.array([2474, 2547, 2830, 3219, 3429, 3448, 3677, 3872, 4001, 4116])\n",
    "\n",
    "sum_females = 0\n",
    "for x in females_data:\n",
    "    sum_females += x\n",
    "    \n",
    "mean = 1/10 * sum_females\n",
    "print(mean), print(np.mean(females_data))"
   ]
  },
  {
   "cell_type": "code",
   "execution_count": 8,
   "metadata": {},
   "outputs": [
    {
     "name": "stdout",
     "output_type": "stream",
     "text": [
      "344920.45555555564\n",
      "344920.4555555556\n"
     ]
    },
    {
     "data": {
      "text/plain": [
       "(None, None)"
      ]
     },
     "execution_count": 8,
     "metadata": {},
     "output_type": "execute_result"
    }
   ],
   "source": [
    "n = 10\n",
    "diff = 0\n",
    "for a in females_data:\n",
    "    diff += (a - mean)**2\n",
    "Var = (diff/(n-1))\n",
    "print(Var), print(females_data.var(ddof=1))"
   ]
  },
  {
   "cell_type": "code",
   "execution_count": 15,
   "metadata": {},
   "outputs": [
    {
     "name": "stdout",
     "output_type": "stream",
     "text": [
      "587.299289592245\n",
      "587.2992895922449\n"
     ]
    },
    {
     "data": {
      "text/plain": [
       "(None, None)"
      ]
     },
     "execution_count": 15,
     "metadata": {},
     "output_type": "execute_result"
    }
   ],
   "source": [
    "SD = np.sqrt(Var)\n",
    "\n",
    "print(SD), print(females_data.std(ddof=1))"
   ]
  },
  {
   "cell_type": "markdown",
   "metadata": {},
   "source": [
    "b) Compute the same summary statistics of the male births. Compare and\n",
    "explain differences with the results for the female births."
   ]
  },
  {
   "cell_type": "code",
   "execution_count": null,
   "metadata": {},
   "outputs": [
    {
     "name": "stdout",
     "output_type": "stream",
     "text": [
      "3475.2000000000003\n",
      "3475.2\n"
     ]
    },
    {
     "data": {
      "text/plain": [
       "(None, None)"
      ]
     },
     "execution_count": 16,
     "metadata": {},
     "output_type": "execute_result"
    }
   ],
   "source": [
    "males_data = np.array([2844, 2863, 2963, 3239, 3379, 3449, 3582, 3926, 4151, 4356])\n",
    "\n",
    "sum_males = 0\n",
    "for x in males_data:\n",
    "    sum_males += x\n",
    "     \n",
    "mean = 1/10 * sum_males\n",
    "print(mean), print(np.mean(males_data))"
   ]
  },
  {
   "cell_type": "code",
   "execution_count": 18,
   "metadata": {},
   "outputs": [
    {
     "name": "stdout",
     "output_type": "stream",
     "text": [
      "283158.1777777778\n",
      "283158.1777777777\n"
     ]
    },
    {
     "data": {
      "text/plain": [
       "(None, None)"
      ]
     },
     "execution_count": 18,
     "metadata": {},
     "output_type": "execute_result"
    }
   ],
   "source": [
    "n = 10\n",
    "diff = 0\n",
    "for a in males_data:\n",
    "    diff += (a - mean)**2\n",
    "Var = (diff/(n-1))\n",
    "print(Var), print(males_data.var(ddof=1))"
   ]
  },
  {
   "cell_type": "code",
   "execution_count": 19,
   "metadata": {},
   "outputs": [
    {
     "name": "stdout",
     "output_type": "stream",
     "text": [
      "532.1260919911537\n",
      "532.1260919911537\n"
     ]
    },
    {
     "data": {
      "text/plain": [
       "(None, None)"
      ]
     },
     "execution_count": 19,
     "metadata": {},
     "output_type": "execute_result"
    }
   ],
   "source": [
    "SD = np.sqrt(Var)\n",
    "\n",
    "print(SD), print(males_data.std(ddof=1))"
   ]
  },
  {
   "cell_type": "markdown",
   "metadata": {},
   "source": [
    "c) Find the five quartiles for each sample — and draw the two box plots with\n",
    "pen and paper (i.e. not using Python.)"
   ]
  },
  {
   "cell_type": "code",
   "execution_count": 21,
   "metadata": {},
   "outputs": [
    {
     "name": "stdout",
     "output_type": "stream",
     "text": [
      "Q1 (25th percentile): 2927.25\n",
      "Q3 (75th percentile): 3823.25\n",
      "IQR: 896.0\n",
      "Lower fence: 1583.25\n",
      "Upper fence: 5167.25\n"
     ]
    }
   ],
   "source": [
    "import numpy as np\n",
    "\n",
    "# Calculate quartiles\n",
    "Q1 = np.percentile(females_data, 25)\n",
    "Q3 = np.percentile(females_data, 75)\n",
    "\n",
    "# Interquartile Range\n",
    "IQR = Q3 - Q1\n",
    "\n",
    "# Calculate fences\n",
    "lower_fence = Q1 - 1.5 * IQR\n",
    "upper_fence = Q3 + 1.5 * IQR\n",
    "\n",
    "print(\"Q1 (25th percentile):\", Q1)\n",
    "print(\"Q3 (75th percentile):\", Q3)\n",
    "print(\"IQR:\", IQR)\n",
    "print(\"Lower fence:\", lower_fence)\n",
    "print(\"Upper fence:\", upper_fence)\n"
   ]
  },
  {
   "cell_type": "code",
   "execution_count": 22,
   "metadata": {},
   "outputs": [
    {
     "name": "stdout",
     "output_type": "stream",
     "text": [
      "Q1 (25th percentile): 3032.0\n",
      "Q3 (75th percentile): 3840.0\n",
      "IQR: 808.0\n",
      "Lower fence: 1820.0\n",
      "Upper fence: 5052.0\n"
     ]
    }
   ],
   "source": [
    "import numpy as np\n",
    "\n",
    "# Calculate quartiles\n",
    "Q1 = np.percentile(males_data, 25)\n",
    "Q3 = np.percentile(males_data, 75)\n",
    "\n",
    "# Interquartile Range\n",
    "IQR = Q3 - Q1\n",
    "\n",
    "# Calculate fences\n",
    "lower_fence = Q1 - 1.5 * IQR\n",
    "upper_fence = Q3 + 1.5 * IQR\n",
    "\n",
    "print(\"Q1 (25th percentile):\", Q1)\n",
    "print(\"Q3 (75th percentile):\", Q3)\n",
    "print(\"IQR:\", IQR)\n",
    "print(\"Lower fence:\", lower_fence)\n",
    "print(\"Upper fence:\", upper_fence)\n"
   ]
  },
  {
   "cell_type": "markdown",
   "metadata": {},
   "source": []
  },
  {
   "cell_type": "markdown",
   "metadata": {},
   "source": [
    "2. Course grades"
   ]
  },
  {
   "cell_type": "code",
   "execution_count": null,
   "metadata": {},
   "outputs": [
    {
     "name": "stdout",
     "output_type": "stream",
     "text": [
      "      Grade  Course 1  Course 2  Total\n",
      "0   Grade12        20        14     34\n",
      "1   Grade10        14        14     28\n",
      "2   Grade07        16        27     43\n",
      "3   Grade04        20        22     42\n",
      "4   Grade02        12        27     39\n",
      "5   Grade 0        16        17     33\n",
      "6  Grade-03        10        22     32\n"
     ]
    }
   ],
   "source": [
    "data = {\n",
    "    'Grade':[\"Grade12\",\"Grade10\",\"Grade07\",\"Grade04\",\"Grade02\",\"Grade 0\", \"Grade-03\"], \n",
    "    'Course 1':[20, 14, 16, 20, 12, 16, 10],\n",
    "    'Course 2':[14, 14, 27, 22, 27, 17, 22]\n",
    "}\n",
    "\n",
    "df = pd.DataFrame(data)\n",
    "df[\"Total\"] = df[\"Course 1\"] + df[\"Course 2\"]\n",
    "print(df)"
   ]
  },
  {
   "cell_type": "markdown",
   "metadata": {},
   "source": [
    "a) What is the median of the 251 achieved grades?"
   ]
  },
  {
   "cell_type": "markdown",
   "metadata": {},
   "source": [
    "We look at the 251 grades seen from the Total column of the table. Seen from below,\n",
    "these 251 grades are already ordered, so to find the median we should find the 126th\n",
    "ordered observation from below. Since there are 104 grades in the -3, 0, and 2 Grade\n",
    "categories and 42 in the Grade 4 category, the 126th ordered observation from below\n",
    "is a 4, so the answer is: the median is 4."
   ]
  },
  {
   "cell_type": "code",
   "execution_count": 48,
   "metadata": {},
   "outputs": [
    {
     "data": {
      "text/plain": [
       "Course 1    16.0\n",
       "Course 2    22.0\n",
       "Total       34.0\n",
       "dtype: float64"
      ]
     },
     "execution_count": 48,
     "metadata": {},
     "output_type": "execute_result"
    }
   ],
   "source": [
    "df.median(numeric_only=True)"
   ]
  },
  {
   "cell_type": "markdown",
   "metadata": {},
   "source": [
    "b) What are the quartiles and the IQR (Inter Quartile Range)?"
   ]
  },
  {
   "cell_type": "code",
   "execution_count": 52,
   "metadata": {},
   "outputs": [
    {
     "name": "stdout",
     "output_type": "stream",
     "text": [
      "7\n"
     ]
    }
   ],
   "source": [
    "Q1 = 0\n",
    "Q3 = 7\n",
    "IQR = Q3 - Q1\n",
    "print(IQR)"
   ]
  },
  {
   "cell_type": "markdown",
   "metadata": {},
   "source": [
    "3. Cholesterol"
   ]
  },
  {
   "cell_type": "code",
   "execution_count": null,
   "metadata": {},
   "outputs": [],
   "source": []
  },
  {
   "cell_type": "markdown",
   "metadata": {},
   "source": [
    "4. Project Start"
   ]
  }
 ],
 "metadata": {
  "kernelspec": {
   "display_name": "Python 3",
   "language": "python",
   "name": "python3"
  },
  "language_info": {
   "codemirror_mode": {
    "name": "ipython",
    "version": 3
   },
   "file_extension": ".py",
   "mimetype": "text/x-python",
   "name": "python",
   "nbconvert_exporter": "python",
   "pygments_lexer": "ipython3",
   "version": "3.11.9"
  }
 },
 "nbformat": 4,
 "nbformat_minor": 2
}
